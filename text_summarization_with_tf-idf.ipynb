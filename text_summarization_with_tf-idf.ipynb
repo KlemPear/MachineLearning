{
 "cells": [
  {
   "attachments": {},
   "cell_type": "markdown",
   "metadata": {},
   "source": [
    "# Text Summarizer with TF-IDF"
   ]
  },
  {
   "attachments": {},
   "cell_type": "markdown",
   "metadata": {},
   "source": [
    "- Select an article from BBC corpus\n",
    "- Split article into sentences using nltk.sent_tokenize\n",
    "- Compute TF-IDF matrix of sentence x tokens\n",
    "- Score each sentence by taking the average of non-zero TF-IDF values\n",
    "- Summarize article by printing out only the top scoring sentences."
   ]
  },
  {
   "cell_type": "code",
   "execution_count": 13,
   "metadata": {},
   "outputs": [],
   "source": [
    "from sklearn.feature_extraction.text import TfidfVectorizer\n",
    "from nltk import sent_tokenize\n",
    "import numpy as np"
   ]
  },
  {
   "cell_type": "code",
   "execution_count": 42,
   "metadata": {},
   "outputs": [],
   "source": [
    "# Load an article and tokenize sentences\n",
    "with open(\"../datasets/bbc/tech/019.txt\") as file:\n",
    "    input_sentences = sent_tokenize(file.read())\n"
   ]
  },
  {
   "cell_type": "code",
   "execution_count": 43,
   "metadata": {},
   "outputs": [],
   "source": [
    "vectorizer = TfidfVectorizer(stop_words='english')"
   ]
  },
  {
   "cell_type": "code",
   "execution_count": 44,
   "metadata": {},
   "outputs": [],
   "source": [
    "X = vectorizer.fit_transform(input_sentences)"
   ]
  },
  {
   "cell_type": "code",
   "execution_count": 45,
   "metadata": {},
   "outputs": [
    {
     "name": "stdout",
     "output_type": "stream",
     "text": [
      "[ 5  6  7 18 12  9 14  0 10 15  4  1 17  8 11  2  3 13 16 19]\n"
     ]
    }
   ],
   "source": [
    "# let's score each line of X\n",
    "score = []\n",
    "for line in X:\n",
    "    score.append(line[line != 0].mean())\n",
    "\n",
    "index_score = np.argsort(score)\n",
    "print(index_score)"
   ]
  },
  {
   "cell_type": "code",
   "execution_count": 47,
   "metadata": {},
   "outputs": [
    {
     "name": "stdout",
     "output_type": "stream",
     "text": [
      "Writing in the journal Nature, Dr Paniccia - and colleagues Haisheng Rong, Richard Jones, Ansheng Liu, Oded Cohen, Dani Hak and Alexander Fang - show how they have made a continuous laser from the same material used to make computer processors.\n",
      "Currently, says Dr Paniccia, telecommunications equipment that amplifies the laser light that travels down fibre optic cables is very expensive because of the exotic materials, such as gallium arsenide, used to make it.\n",
      "Telecommunications firms and chip makers would prefer to use silicon for these light-moving elements because it is cheap and many of the problems of using it in high-volume manufacturing have been solved.\n",
      "Dr Paniccia said that the structure of silicon meant that when laser light passed through it, some colliding photons rip electrons off the atoms within the material.\n",
      "Dr Paniccia said the work was the one of several steps needed if silicon was to be used to make components that could carry and process light in the form of data pulses.\n"
     ]
    }
   ],
   "source": [
    "# print top 5 sentences in order of appearance.\n",
    "sorted_index_score = np.sort(index_score[:5])\n",
    "for index in sorted_index_score:\n",
    "    print(input_sentences[index])"
   ]
  },
  {
   "cell_type": "code",
   "execution_count": null,
   "metadata": {},
   "outputs": [],
   "source": []
  }
 ],
 "metadata": {
  "kernelspec": {
   "display_name": "base",
   "language": "python",
   "name": "python3"
  },
  "language_info": {
   "codemirror_mode": {
    "name": "ipython",
    "version": 3
   },
   "file_extension": ".py",
   "mimetype": "text/x-python",
   "name": "python",
   "nbconvert_exporter": "python",
   "pygments_lexer": "ipython3",
   "version": "3.10.9"
  },
  "orig_nbformat": 4
 },
 "nbformat": 4,
 "nbformat_minor": 2
}
