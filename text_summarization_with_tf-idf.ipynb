{
 "cells": [
  {
   "attachments": {},
   "cell_type": "markdown",
   "metadata": {},
   "source": [
    "# Text Summarizer with TF-IDF"
   ]
  },
  {
   "attachments": {},
   "cell_type": "markdown",
   "metadata": {},
   "source": [
    "- Select an article from BBC corpus\n",
    "- Split article into sentences using nltk.sent_tokenize\n",
    "- Compute TF-IDF matrix of sentence x tokens\n",
    "- Score each sentence by taking the average of non-zero TF-IDF values\n",
    "- Summarize article by printing out only the top scoring sentences."
   ]
  },
  {
   "cell_type": "code",
   "execution_count": 13,
   "metadata": {},
   "outputs": [],
   "source": [
    "from sklearn.feature_extraction.text import TfidfVectorizer\n",
    "from nltk import sent_tokenize\n",
    "import numpy as np"
   ]
  },
  {
   "cell_type": "code",
   "execution_count": 64,
   "metadata": {},
   "outputs": [],
   "source": [
    "# Load an article and tokenize sentences\n",
    "with open(\"../datasets/bbc/business/020.txt\") as file:\n",
    "    input_sentences = sent_tokenize(file.read())\n"
   ]
  },
  {
   "cell_type": "code",
   "execution_count": 65,
   "metadata": {},
   "outputs": [
    {
     "data": {
      "text/plain": [
       "[\"Call centre users 'lose patience'\\n\\nCustomers trying to get through to call centres are getting impatient and quicker to hang up, a survey suggests.\",\n",
       " 'Once past the welcome message, callers on average hang up after just 65 seconds of listening to canned music.',\n",
       " 'The drop in patience comes as the number of calls to call centres is growing at a rate of 20% every year.',\n",
       " '\"Customers are getting used to the idea of an \\'always available\\' society,\" says Cara Diemont of IT firm Dimension Data, which commissioned the survey.',\n",
       " 'However, call centres also saw a sharp increase of customers simply abandoning calls, she says, from just over 5% in 2003 to a record 13.3% during last year.',\n",
       " 'When automated phone message systems are taken out of the equation, where customers have to pick their way through multiple options and messages, the number of abandoned calls is even higher - a sixth of all callers give up rather than wait.',\n",
       " \"One possible reason for the lack in patience, Ms Diemont says, is the fact that more customers are calling 'on the move' using their mobile phones.\",\n",
       " \"The surge in customers trying to get through to call centres is also a reflection of the centres' growing range of tasks.\",\n",
       " '\"Once a call centre may have looked after mortgages, now its agents may also be responsible for credit cards, insurance and current accounts,\" Ms Diemont says.',\n",
       " 'Problems are occurring because increased responsibility is not going hand-in-hand with more training, the survey found.',\n",
       " 'In what Dimension Data calls an \"alarming development\", the average induction time for a call centre worker fell last year from 36 to just 21 days, leaving \"agents not equipped to deal with customers\".',\n",
       " 'This, Ms Diemont warns, is \"scary\" and not good for the bottom line either.',\n",
       " 'Poor training frustrates both call centre workers and customers.',\n",
       " 'As a result, call centres have a high \"churn rate\", with nearly a quarter of workers throwing in the towel every year, which in turn forces companies to pay for training new staff.',\n",
       " \"Resolution rates - the number of calls where a customer's query is resolved to mutual satisfaction - are running at just 50%.\",\n",
       " 'When the query is passed on to a second or third person - a specialist or manager - rates rise to about 70%, but that is still well below the industry target of an 85% resolution rate.',\n",
       " 'Suggestions that \"outsourcing\" - relocating call centres to low-cost countries like India or South Africa - is to blame are wrong, Ms Diemont says.',\n",
       " 'There are \"no big differences in wait time and call resolution\" between call centres based in Europe or North America and those in developing countries around the world.',\n",
       " '\"You can make call centres perform anywhere if you have good management and the right processes in place,\" she says.',\n",
       " 'However, companies that decide to \"offshore\" their operations are driven not just by cost considerations.',\n",
       " 'Only 42% of them say that saving money is the main consideration when closing domestic call centre operations.',\n",
       " 'Half of them argue that workers in other countries offer better skills for the money.',\n",
       " 'But not everybody believes that outsourcing and offshoring are the solution.',\n",
       " 'Nearly two-thirds of all firms polled for the survey have no plans to offshore their call centres.',\n",
       " 'They give three key reasons for not making the move:\\n\\n- call centre operations are part of their business \"core function\", \\n - they are worried about the risk of going abroad, \\n - they fear that they will damage their brand if they join the offshoring drive.',\n",
       " 'The survey was conducted by Sunovate on behalf of Dimension Data, and is based on in-depth questionnaires of 166 call centres in 24 countries and five continents.',\n",
       " 'What are your experiences with call centres?',\n",
       " 'Are you happy to listen to Vivaldi or Greensleeves, or do you want an immediate response?',\n",
       " 'And if you work in a call centre: did your training prepare you for your job?']"
      ]
     },
     "execution_count": 65,
     "metadata": {},
     "output_type": "execute_result"
    }
   ],
   "source": [
    "input_sentences"
   ]
  },
  {
   "cell_type": "code",
   "execution_count": 66,
   "metadata": {},
   "outputs": [],
   "source": [
    "vectorizer = TfidfVectorizer(stop_words='english', norm='l1')"
   ]
  },
  {
   "cell_type": "code",
   "execution_count": 67,
   "metadata": {},
   "outputs": [],
   "source": [
    "X = vectorizer.fit_transform(input_sentences)"
   ]
  },
  {
   "cell_type": "code",
   "execution_count": 68,
   "metadata": {},
   "outputs": [
    {
     "name": "stdout",
     "output_type": "stream",
     "text": [
      "[26 22 11 12 28 27 23 21  7  9 19 18  2 20 14  1 17  8  6  0 15  4  3 25\n",
      " 16 24 13  5 10]\n"
     ]
    }
   ],
   "source": [
    "# let's score each line of X\n",
    "score = np.zeros(len(input_sentences))\n",
    "for i in range(X.shape[0]):\n",
    "    score[i] = X[i][X[i] != 0].mean()\n",
    "\n",
    "index_score = np.argsort(-score)\n",
    "print(index_score)"
   ]
  },
  {
   "cell_type": "code",
   "execution_count": 73,
   "metadata": {},
   "outputs": [
    {
     "name": "stdout",
     "output_type": "stream",
     "text": [
      "0.12: The surge in customers trying to get through to call centres is also a reflection of the centres' growing range of tasks.\n",
      "0.12: Problems are occurring because increased responsibility is not going hand-in-hand with more training, the survey found.\n",
      "0.17: This, Ms Diemont warns, is \"scary\" and not good for the bottom line either.\n",
      "0.17: Poor training frustrates both call centre workers and customers.\n",
      "0.12: Half of them argue that workers in other countries offer better skills for the money.\n",
      "0.20: But not everybody believes that outsourcing and offshoring are the solution.\n",
      "0.12: Nearly two-thirds of all firms polled for the survey have no plans to offshore their call centres.\n",
      "0.50: What are your experiences with call centres?\n",
      "0.14: Are you happy to listen to Vivaldi or Greensleeves, or do you want an immediate response?\n",
      "0.17: And if you work in a call centre: did your training prepare you for your job?\n"
     ]
    }
   ],
   "source": [
    "# print top 5 sentences in order of appearance.\n",
    "sorted_index_score = np.sort(index_score[:10])\n",
    "for index in sorted_index_score:\n",
    "    print(\"%.2f: %s\" % (score[index], input_sentences[index]))"
   ]
  },
  {
   "cell_type": "code",
   "execution_count": null,
   "metadata": {},
   "outputs": [],
   "source": []
  }
 ],
 "metadata": {
  "kernelspec": {
   "display_name": "base",
   "language": "python",
   "name": "python3"
  },
  "language_info": {
   "codemirror_mode": {
    "name": "ipython",
    "version": 3
   },
   "file_extension": ".py",
   "mimetype": "text/x-python",
   "name": "python",
   "nbconvert_exporter": "python",
   "pygments_lexer": "ipython3",
   "version": "3.10.9"
  },
  "orig_nbformat": 4
 },
 "nbformat": 4,
 "nbformat_minor": 2
}
