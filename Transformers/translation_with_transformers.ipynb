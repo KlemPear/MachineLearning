{
 "cells": [
  {
   "attachments": {},
   "cell_type": "markdown",
   "metadata": {},
   "source": [
    "# Translation with Seq2Seq Transformers "
   ]
  },
  {
   "attachments": {},
   "cell_type": "markdown",
   "metadata": {},
   "source": [
    "first import everything"
   ]
  },
  {
   "cell_type": "code",
   "execution_count": 45,
   "metadata": {},
   "outputs": [],
   "source": [
    "from datasets import load_dataset, load_metric\n",
    "from transformers import AutoTokenizer\n",
    "import matplotlib.pyplot as plt\n",
    "from transformers import AutoModelForSeq2SeqLM, DataCollatorForSeq2Seq, Seq2SeqTrainingArguments, Seq2SeqTrainer, pipeline\n",
    "import numpy as np\n"
   ]
  },
  {
   "cell_type": "code",
   "execution_count": 4,
   "metadata": {},
   "outputs": [
    {
     "name": "stderr",
     "output_type": "stream",
     "text": [
      "Downloading builder script: 100%|██████████| 4.25k/4.25k [00:00<00:00, 8.72MB/s]\n",
      "Downloading metadata: 100%|██████████| 8.45k/8.45k [00:00<00:00, 34.7MB/s]\n",
      "Downloading readme: 100%|██████████| 5.10k/5.10k [00:00<00:00, 19.5MB/s]\n",
      "Downloading data: 100%|██████████| 7.05M/7.05M [00:01<00:00, 4.09MB/s]\n",
      "Generating train split: 100%|██████████| 210173/210173 [00:01<00:00, 106576.88 examples/s]\n"
     ]
    },
    {
     "data": {
      "text/plain": [
       "DatasetDict({\n",
       "    train: Dataset({\n",
       "        features: ['id', 'translation'],\n",
       "        num_rows: 210173\n",
       "    })\n",
       "})"
      ]
     },
     "execution_count": 4,
     "metadata": {},
     "output_type": "execute_result"
    }
   ],
   "source": [
    "data = load_dataset('kde4', lang1='en', lang2='fr')\n",
    "data"
   ]
  },
  {
   "attachments": {},
   "cell_type": "markdown",
   "metadata": {},
   "source": [
    "The dataset is huge, we make it smaller by sampling 1000 rows"
   ]
  },
  {
   "cell_type": "code",
   "execution_count": 19,
   "metadata": {},
   "outputs": [
    {
     "data": {
      "text/plain": [
       "{'id': '38288', 'translation': {'en': 'M', 'fr': 'M'}}"
      ]
     },
     "execution_count": 19,
     "metadata": {},
     "output_type": "execute_result"
    }
   ],
   "source": [
    "small = data[\"train\"].shuffle(seed=42).select(range(1_000))\n",
    "split = small.train_test_split(seed=42, test_size=0.2)\n",
    "split[\"train\"][0]"
   ]
  },
  {
   "attachments": {},
   "cell_type": "markdown",
   "metadata": {},
   "source": [
    "Next we load the tokenizer for our model"
   ]
  },
  {
   "cell_type": "code",
   "execution_count": 20,
   "metadata": {},
   "outputs": [],
   "source": [
    "checkpoint = \"Helsinki-NLP/opus-mt-en-fr\"\n",
    "tokenizer = AutoTokenizer.from_pretrained(checkpoint)"
   ]
  },
  {
   "cell_type": "code",
   "execution_count": 21,
   "metadata": {},
   "outputs": [
    {
     "data": {
      "text/plain": [
       "(\"Cannot handle drop events of type '%1 '.\", 'Calendrier actif')"
      ]
     },
     "execution_count": 21,
     "metadata": {},
     "output_type": "execute_result"
    }
   ],
   "source": [
    "en = split['train'][5]['translation']['en']\n",
    "fr = split['train'][5]['translation']['fr']\n",
    "en, fr"
   ]
  },
  {
   "attachments": {},
   "cell_type": "markdown",
   "metadata": {},
   "source": [
    "Tokenize the starting language"
   ]
  },
  {
   "cell_type": "code",
   "execution_count": 22,
   "metadata": {},
   "outputs": [
    {
     "data": {
      "text/plain": [
       "{'input_ids': [1989, 5310, 9176, 8428, 1912, 7, 542, 25, 3878, 548, 25, 3, 0], 'attention_mask': [1, 1, 1, 1, 1, 1, 1, 1, 1, 1, 1, 1, 1]}"
      ]
     },
     "execution_count": 22,
     "metadata": {},
     "output_type": "execute_result"
    }
   ],
   "source": [
    "inputs = tokenizer(en)\n",
    "inputs"
   ]
  },
  {
   "attachments": {},
   "cell_type": "markdown",
   "metadata": {},
   "source": [
    "tokenize the target language"
   ]
  },
  {
   "cell_type": "code",
   "execution_count": 23,
   "metadata": {},
   "outputs": [
    {
     "data": {
      "text/plain": [
       "{'input_ids': [17923, 7175, 0], 'attention_mask': [1, 1, 1]}"
      ]
     },
     "execution_count": 23,
     "metadata": {},
     "output_type": "execute_result"
    }
   ],
   "source": [
    "targets = tokenizer(text_target=fr)\n",
    "targets"
   ]
  },
  {
   "cell_type": "code",
   "execution_count": 24,
   "metadata": {},
   "outputs": [
    {
     "data": {
      "text/plain": [
       "['▁Calendrier', '▁actif', '</s>']"
      ]
     },
     "execution_count": 24,
     "metadata": {},
     "output_type": "execute_result"
    }
   ],
   "source": [
    "tokenizer.convert_ids_to_tokens(targets['input_ids'])"
   ]
  },
  {
   "attachments": {},
   "cell_type": "markdown",
   "metadata": {},
   "source": [
    "if we don't use the correct tokenizer for the correct language, the tokens are wrong"
   ]
  },
  {
   "cell_type": "code",
   "execution_count": 25,
   "metadata": {},
   "outputs": [
    {
     "data": {
      "text/plain": [
       "['▁Cal', 'end', 'rier', '▁act', 'if', '</s>']"
      ]
     },
     "execution_count": 25,
     "metadata": {},
     "output_type": "execute_result"
    }
   ],
   "source": [
    "# wrong language\n",
    "bad_targets = tokenizer(fr)\n",
    "tokenizer.convert_ids_to_tokens(bad_targets['input_ids'])"
   ]
  },
  {
   "attachments": {},
   "cell_type": "markdown",
   "metadata": {},
   "source": [
    "Let's plot the size of the starting language sentences"
   ]
  },
  {
   "cell_type": "code",
   "execution_count": 26,
   "metadata": {},
   "outputs": [
    {
     "data": {
      "image/png": "[encoded data removed]",
      "text/plain": [
       "<Figure size 640x480 with 1 Axes>"
      ]
     },
     "metadata": {},
     "output_type": "display_data"
    }
   ],
   "source": [
    "train = split['train']['translation']\n",
    "input_lens = [len(tr['en']) for tr in train]\n",
    "\n",
    "plt.hist(input_lens, bins=50);"
   ]
  },
  {
   "attachments": {},
   "cell_type": "markdown",
   "metadata": {},
   "source": [
    "Same for target language:"
   ]
  },
  {
   "cell_type": "code",
   "execution_count": 27,
   "metadata": {},
   "outputs": [
    {
     "data": {
      "image/png": "[encoded data removed]",
      "text/plain": [
       "<Figure size 640x480 with 1 Axes>"
      ]
     },
     "metadata": {},
     "output_type": "display_data"
    }
   ],
   "source": [
    "target_lens = [len(tr['fr']) for tr in train]\n",
    "plt.hist(target_lens, bins=50);"
   ]
  },
  {
   "attachments": {},
   "cell_type": "markdown",
   "metadata": {},
   "source": [
    "Now we can build our tokenizer function with the correct max_length"
   ]
  },
  {
   "cell_type": "code",
   "execution_count": 28,
   "metadata": {},
   "outputs": [],
   "source": [
    "max_input_len = 128\n",
    "max_target_len = 128\n",
    "\n",
    "def tokenizer_fn(batch):\n",
    "  inputs = [x['en'] for x in batch['translation']]\n",
    "  targets = [x['fr'] for x in batch['translation']]\n",
    "\n",
    "  tokenized_inputs = tokenizer(\n",
    "    inputs, max_length=max_input_len, truncation=True)\n",
    "\n",
    "  tokenized_targets = tokenizer(\n",
    "    text_target=targets, max_length=max_target_len, truncation=True)\n",
    "  # huggingface api expects the target to be under the 'labels' column\n",
    "  tokenized_inputs['labels'] = tokenized_targets['input_ids']\n",
    "  return tokenized_inputs"
   ]
  },
  {
   "cell_type": "code",
   "execution_count": 29,
   "metadata": {},
   "outputs": [
    {
     "name": "stderr",
     "output_type": "stream",
     "text": [
      "Map: 100%|██████████| 800/800 [00:00<00:00, 13423.22 examples/s]\n",
      "Map: 100%|██████████| 200/200 [00:00<00:00, 13526.30 examples/s]\n"
     ]
    },
    {
     "data": {
      "text/plain": [
       "DatasetDict({\n",
       "    train: Dataset({\n",
       "        features: ['input_ids', 'attention_mask', 'labels'],\n",
       "        num_rows: 800\n",
       "    })\n",
       "    test: Dataset({\n",
       "        features: ['input_ids', 'attention_mask', 'labels'],\n",
       "        num_rows: 200\n",
       "    })\n",
       "})"
      ]
     },
     "execution_count": 29,
     "metadata": {},
     "output_type": "execute_result"
    }
   ],
   "source": [
    "tokenized_datasets = split.map(\n",
    "    tokenizer_fn,\n",
    "    batched=True,\n",
    "    remove_columns=split['train'].column_names,\n",
    ")\n",
    "tokenized_datasets"
   ]
  },
  {
   "attachments": {},
   "cell_type": "markdown",
   "metadata": {},
   "source": [
    "### Create Model"
   ]
  },
  {
   "cell_type": "code",
   "execution_count": 31,
   "metadata": {},
   "outputs": [
    {
     "name": "stderr",
     "output_type": "stream",
     "text": [
      "pytorch_model.bin: 100%|██████████| 301M/301M [00:46<00:00, 6.43MB/s] \n",
      "(…)n-fr/resolve/main/generation_config.json: 100%|██████████| 293/293 [00:00<00:00, 1.02MB/s]\n"
     ]
    }
   ],
   "source": [
    "model = AutoModelForSeq2SeqLM.from_pretrained(checkpoint)"
   ]
  },
  {
   "attachments": {},
   "cell_type": "markdown",
   "metadata": {},
   "source": [
    "Next we create our data collator: it will create the decoder inputs for our seq2seq decoder. It basically shift the target inputs by 1 in the sequence."
   ]
  },
  {
   "cell_type": "code",
   "execution_count": 33,
   "metadata": {},
   "outputs": [],
   "source": [
    "data_collator = DataCollatorForSeq2Seq(tokenizer, model=model)"
   ]
  },
  {
   "cell_type": "code",
   "execution_count": 34,
   "metadata": {},
   "outputs": [
    {
     "data": {
      "text/plain": [
       "[{'input_ids': [16627, 28079, 0],\n",
       "  'attention_mask': [1, 1, 1],\n",
       "  'labels': [17308, 33250, 0]},\n",
       " {'input_ids': [741, 0], 'attention_mask': [1, 1], 'labels': [683, 0]}]"
      ]
     },
     "execution_count": 34,
     "metadata": {},
     "output_type": "execute_result"
    }
   ],
   "source": [
    "[tokenized_datasets[\"train\"][i] for i in range(1, 3)]"
   ]
  },
  {
   "cell_type": "code",
   "execution_count": 35,
   "metadata": {},
   "outputs": [
    {
     "name": "stdout",
     "output_type": "stream",
     "text": [
      "keys:  dict_keys(['input_ids', 'attention_mask', 'labels', 'decoder_input_ids'])\n",
      "labels:  tensor([[17308, 33250,     0],\n",
      "        [  683,     0,  -100]])\n",
      "decoder inputs ids:  tensor([[59513, 17308, 33250],\n",
      "        [59513,   683,     0]])\n"
     ]
    }
   ],
   "source": [
    "batch = data_collator([tokenized_datasets[\"train\"][i] for i in range(1, 3)])\n",
    "print('keys: ', batch.keys())\n",
    "print('labels: ', batch['labels'])\n",
    "# think of seq2seq RNNs - the decoder RNN must have \"some\" input\n",
    "# it's just like a language model where we predict the next word from\n",
    "# previous words!\n",
    "print('decoder inputs ids: ', batch[\"decoder_input_ids\"])\n"
   ]
  },
  {
   "cell_type": "code",
   "execution_count": 36,
   "metadata": {},
   "outputs": [
    {
     "data": {
      "text/plain": [
       "['<pad>', '▁Gé', 'ométrie']"
      ]
     },
     "execution_count": 36,
     "metadata": {},
     "output_type": "execute_result"
    }
   ],
   "source": [
    "# the first token is a pad!\n",
    "tokenizer.convert_ids_to_tokens(batch[\"decoder_input_ids\"][0])"
   ]
  },
  {
   "cell_type": "code",
   "execution_count": 37,
   "metadata": {},
   "outputs": [
    {
     "data": {
      "text/plain": [
       "['▁Gé', 'ométrie', '</s>']"
      ]
     },
     "execution_count": 37,
     "metadata": {},
     "output_type": "execute_result"
    }
   ],
   "source": [
    "# the labels are one step ahead - just like a language model\n",
    "tokenizer.convert_ids_to_tokens(batch[\"labels\"][0])"
   ]
  },
  {
   "attachments": {},
   "cell_type": "markdown",
   "metadata": {},
   "source": [
    "### Metrics"
   ]
  },
  {
   "cell_type": "code",
   "execution_count": 40,
   "metadata": {},
   "outputs": [
    {
     "name": "stderr",
     "output_type": "stream",
     "text": [
      "Downloading builder script: 8.10kB [00:00, 5.60MB/s]                   \n"
     ]
    }
   ],
   "source": [
    "bleu_metric = load_metric('sacrebleu')\n",
    "bert_metric = load_metric('bertscore')"
   ]
  },
  {
   "cell_type": "code",
   "execution_count": 43,
   "metadata": {},
   "outputs": [
    {
     "name": "stdout",
     "output_type": "stream",
     "text": [
      "Bleu Metric:  {'score': 47.27526606311562, 'counts': [10, 6, 5, 4], 'totals': [14, 13, 12, 11], 'precisions': [71.42857142857143, 46.15384615384615, 41.666666666666664, 36.36363636363637], 'bp': 1.0, 'sys_len': 14, 'ref_len': 12}\n",
      "BERT Metric:  {'precision': [0.9654814600944519], 'recall': [0.9786436557769775], 'f1': [0.9720179438591003], 'hashcode': 'roberta-large_L17_no-idf_version=0.3.12(hug_trans=4.32.1)'}\n"
     ]
    }
   ],
   "source": [
    "pred = 'I love it when cats are curled up in a ball of fur.'\n",
    "ref = 'I like when cats are curled up in a furry ball.'\n",
    "# blue metric matches word by word\n",
    "bleu = bleu_metric.compute(predictions=[pred], references=[[ref]])\n",
    "# bert metric uses a bert model to compute sentence embedding and compares the prediction and references meaning\n",
    "bert = bert_metric.compute(predictions=[pred], references=[[ref]], lang='en')\n",
    "\n",
    "print('Bleu Metric: ', bleu)\n",
    "print('BERT Metric: ', bert)"
   ]
  },
  {
   "cell_type": "code",
   "execution_count": 44,
   "metadata": {},
   "outputs": [],
   "source": [
    "def compute_metrics(preds_and_labels):\n",
    "  # preds are not logits, but token ids\n",
    "  preds, labels = preds_and_labels\n",
    "\n",
    "  # convert predictions into words\n",
    "  decoded_preds = tokenizer.batch_decode(preds, skip_special_tokens=True)\n",
    "\n",
    "  # for any -100 label, replace with pad token id\n",
    "  labels = np.where(labels != -100, labels, tokenizer.pad_token_id)\n",
    "\n",
    "  # convert labels into words\n",
    "  decoded_labels = tokenizer.batch_decode(labels, skip_special_tokens=True)\n",
    "\n",
    "  # get rid of extraneous whitespace\n",
    "  # and also, put targets into lists\n",
    "  decoded_preds = [pred.strip() for pred in decoded_preds]\n",
    "  decoded_labels = [[label.strip()] for label in decoded_labels]\n",
    "\n",
    "  bleu = bleu_metric.compute(\n",
    "      predictions=decoded_preds, references=decoded_labels)\n",
    "  bert_score = bert_metric.compute(\n",
    "      predictions=decoded_preds, references=decoded_labels, lang='fr')\n",
    "\n",
    "  return {\"bleu\": bleu[\"score\"], 'bert_score': np.mean(bert_score['f1'])}"
   ]
  },
  {
   "attachments": {},
   "cell_type": "markdown",
   "metadata": {},
   "source": [
    "### Train and evaluate our model"
   ]
  },
  {
   "cell_type": "code",
   "execution_count": 50,
   "metadata": {},
   "outputs": [],
   "source": [
    "training_args = Seq2SeqTrainingArguments(\n",
    "  output_dir=\"finetuned-translation-model\",\n",
    "  evaluation_strategy=\"no\",\n",
    "  save_strategy=\"epoch\",\n",
    "  learning_rate=2e-5,\n",
    "  per_device_train_batch_size=32,\n",
    "  per_device_eval_batch_size=64,\n",
    "  weight_decay=0.01,\n",
    "  save_total_limit=3,\n",
    "  num_train_epochs=3,\n",
    "  predict_with_generate=True,\n",
    "  # fp16=True, # not working on M2 macs\n",
    ")"
   ]
  },
  {
   "cell_type": "code",
   "execution_count": 51,
   "metadata": {},
   "outputs": [],
   "source": [
    "trainer = Seq2SeqTrainer(\n",
    "    model,\n",
    "    training_args,\n",
    "    train_dataset=tokenized_datasets[\"train\"],\n",
    "    eval_dataset=tokenized_datasets[\"test\"],\n",
    "    data_collator=data_collator,\n",
    "    tokenizer=tokenizer,\n",
    "    compute_metrics=compute_metrics,\n",
    ")"
   ]
  },
  {
   "attachments": {},
   "cell_type": "markdown",
   "metadata": {},
   "source": [
    "Let's evaluate the model once before the training"
   ]
  },
  {
   "cell_type": "code",
   "execution_count": 53,
   "metadata": {},
   "outputs": [
    {
     "name": "stderr",
     "output_type": "stream",
     "text": [
      "model.safetensors: 100%|██████████| 714M/714M [01:24<00:00, 8.42MB/s]\n",
      "8it [05:34, 41.77s/it]\n"
     ]
    },
    {
     "data": {
      "text/plain": [
       "{'eval_loss': 1.7369401454925537,\n",
       " 'eval_bleu': 37.07751593966497,\n",
       " 'eval_bert_score': 0.8569478665292263,\n",
       " 'eval_runtime': 187.2348,\n",
       " 'eval_samples_per_second': 1.068,\n",
       " 'eval_steps_per_second': 0.021}"
      ]
     },
     "execution_count": 53,
     "metadata": {},
     "output_type": "execute_result"
    }
   ],
   "source": [
    "# let's check our metrics before we start!\n",
    "trainer.evaluate(max_length=max_target_len)"
   ]
  },
  {
   "cell_type": "code",
   "execution_count": 54,
   "metadata": {},
   "outputs": [
    {
     "name": "stderr",
     "output_type": "stream",
     "text": [
      "100%|██████████| 75/75 [02:50<00:00,  2.27s/it]"
     ]
    },
    {
     "name": "stdout",
     "output_type": "stream",
     "text": [
      "{'train_runtime': 170.5714, 'train_samples_per_second': 14.07, 'train_steps_per_second': 0.44, 'train_loss': 1.6109947713216146, 'epoch': 3.0}\n"
     ]
    },
    {
     "name": "stderr",
     "output_type": "stream",
     "text": [
      "\n"
     ]
    },
    {
     "data": {
      "text/plain": [
       "TrainOutput(global_step=75, training_loss=1.6109947713216146, metrics={'train_runtime': 170.5714, 'train_samples_per_second': 14.07, 'train_steps_per_second': 0.44, 'train_loss': 1.6109947713216146, 'epoch': 3.0})"
      ]
     },
     "execution_count": 54,
     "metadata": {},
     "output_type": "execute_result"
    }
   ],
   "source": [
    "trainer.train()"
   ]
  },
  {
   "cell_type": "code",
   "execution_count": 55,
   "metadata": {},
   "outputs": [
    {
     "name": "stderr",
     "output_type": "stream",
     "text": [
      "100%|██████████| 4/4 [00:28<00:00,  7.10s/it]\n"
     ]
    },
    {
     "data": {
      "text/plain": [
       "{'eval_loss': 1.594087839126587,\n",
       " 'eval_bleu': 41.08893804440268,\n",
       " 'eval_bert_score': 0.873041210770607,\n",
       " 'eval_runtime': 47.2282,\n",
       " 'eval_samples_per_second': 4.235,\n",
       " 'eval_steps_per_second': 0.085,\n",
       " 'epoch': 3.0}"
      ]
     },
     "execution_count": 55,
     "metadata": {},
     "output_type": "execute_result"
    }
   ],
   "source": [
    "# check the metric again after training\n",
    "trainer.evaluate(max_length=max_target_len)"
   ]
  },
  {
   "attachments": {},
   "cell_type": "markdown",
   "metadata": {},
   "source": [
    "### Save model and test it"
   ]
  },
  {
   "cell_type": "code",
   "execution_count": 56,
   "metadata": {},
   "outputs": [],
   "source": [
    "trainer.save_model('english_2_french_translator')"
   ]
  },
  {
   "cell_type": "code",
   "execution_count": 57,
   "metadata": {},
   "outputs": [],
   "source": [
    "translator = pipeline('translation', model='english_2_french_translator', device='mps')"
   ]
  },
  {
   "cell_type": "code",
   "execution_count": 61,
   "metadata": {},
   "outputs": [
    {
     "data": {
      "text/plain": [
       "\"J'aimerais essayer ça sur un ordinateur plus puissant.\""
      ]
     },
     "execution_count": 61,
     "metadata": {},
     "output_type": "execute_result"
    }
   ],
   "source": [
    "translator('I would like to try this on a more powerful computer.')[0]['translation_text']"
   ]
  },
  {
   "cell_type": "code",
   "execution_count": null,
   "metadata": {},
   "outputs": [],
   "source": []
  }
 ],
 "metadata": {
  "kernelspec": {
   "display_name": "gpu",
   "language": "python",
   "name": "python3"
  },
  "language_info": {
   "codemirror_mode": {
    "name": "ipython",
    "version": 3
   },
   "file_extension": ".py",
   "mimetype": "text/x-python",
   "name": "python",
   "nbconvert_exporter": "python",
   "pygments_lexer": "ipython3",
   "version": "3.9.7"
  },
  "orig_nbformat": 4
 },
 "nbformat": 4,
 "nbformat_minor": 2
}
