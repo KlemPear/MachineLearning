{
 "cells": [
  {
   "attachments": {},
   "cell_type": "markdown",
   "metadata": {},
   "source": [
    "# Model Benchmarking Pipeline\n",
    "\n",
    "We'll work on a dataset of Git issues and PR, with multi-label.\n",
    "The goal is to build a pipeline to evaluate different model performance. Using no data, few labeled data or unlabeled data."
   ]
  },
  {
   "attachments": {},
   "cell_type": "markdown",
   "metadata": {},
   "source": [
    "### Exploring the data"
   ]
  },
  {
   "cell_type": "code",
   "execution_count": 13,
   "metadata": {},
   "outputs": [
    {
     "name": "stdout",
     "output_type": "stream",
     "text": [
      "dataframe shape: (9930, 26)\n"
     ]
    }
   ],
   "source": [
    "import pandas as pd\n",
    "\n",
    "dataset_url = 'https://git.io/nlp-with-transformers'\n",
    "df_issues = pd.read_json(dataset_url, lines=True)\n",
    "\n",
    "print(f\"dataframe shape: {df_issues.shape}\")"
   ]
  },
  {
   "cell_type": "code",
   "execution_count": 14,
   "metadata": {},
   "outputs": [
    {
     "data": {
      "text/html": [
       "<div>\n",
       "<style scoped>\n",
       "    .dataframe tbody tr th:only-of-type {\n",
       "        vertical-align: middle;\n",
       "    }\n",
       "\n",
       "    .dataframe tbody tr th {\n",
       "        vertical-align: top;\n",
       "    }\n",
       "\n",
       "    .dataframe thead th {\n",
       "        text-align: right;\n",
       "    }\n",
       "</style>\n",
       "<table border=\"1\" class=\"dataframe\">\n",
       "  <thead>\n",
       "    <tr style=\"text-align: right;\">\n",
       "      <th></th>\n",
       "      <th>2</th>\n",
       "    </tr>\n",
       "  </thead>\n",
       "  <tbody>\n",
       "    <tr>\n",
       "      <th>url</th>\n",
       "      <td>https://api.github.com/repos/huggingface/trans...</td>\n",
       "    </tr>\n",
       "    <tr>\n",
       "      <th>id</th>\n",
       "      <td>849529761</td>\n",
       "    </tr>\n",
       "    <tr>\n",
       "      <th>title</th>\n",
       "      <td>[DeepSpeed] ZeRO stage 3 integration: getting ...</td>\n",
       "    </tr>\n",
       "    <tr>\n",
       "      <th>user</th>\n",
       "      <td>{'login': 'stas00', 'id': 10676103, 'node_id':...</td>\n",
       "    </tr>\n",
       "    <tr>\n",
       "      <th>labels</th>\n",
       "      <td>[{'id': 2659267025, 'node_id': 'MDU6TGFiZWwyNj...</td>\n",
       "    </tr>\n",
       "    <tr>\n",
       "      <th>state</th>\n",
       "      <td>open</td>\n",
       "    </tr>\n",
       "    <tr>\n",
       "      <th>created_at</th>\n",
       "      <td>2021-04-02 23:40:42</td>\n",
       "    </tr>\n",
       "    <tr>\n",
       "      <th>body</th>\n",
       "      <td>**[This is not yet alive, preparing for the re...</td>\n",
       "    </tr>\n",
       "  </tbody>\n",
       "</table>\n",
       "</div>"
      ],
      "text/plain": [
       "                                                            2\n",
       "url         https://api.github.com/repos/huggingface/trans...\n",
       "id                                                  849529761\n",
       "title       [DeepSpeed] ZeRO stage 3 integration: getting ...\n",
       "user        {'login': 'stas00', 'id': 10676103, 'node_id':...\n",
       "labels      [{'id': 2659267025, 'node_id': 'MDU6TGFiZWwyNj...\n",
       "state                                                    open\n",
       "created_at                                2021-04-02 23:40:42\n",
       "body        **[This is not yet alive, preparing for the re..."
      ]
     },
     "execution_count": 14,
     "metadata": {},
     "output_type": "execute_result"
    }
   ],
   "source": [
    "# Sample of an issue:\n",
    "cols = ['url', 'id', 'title', 'user', 'labels', 'state', 'created_at', 'body']\n",
    "df_issues.loc[2, cols].to_frame()"
   ]
  },
  {
   "attachments": {},
   "cell_type": "markdown",
   "metadata": {},
   "source": [
    "We just need the 'name' of the labels not the full json."
   ]
  },
  {
   "cell_type": "code",
   "execution_count": 15,
   "metadata": {},
   "outputs": [
    {
     "data": {
      "text/html": [
       "<div>\n",
       "<style scoped>\n",
       "    .dataframe tbody tr th:only-of-type {\n",
       "        vertical-align: middle;\n",
       "    }\n",
       "\n",
       "    .dataframe tbody tr th {\n",
       "        vertical-align: top;\n",
       "    }\n",
       "\n",
       "    .dataframe thead th {\n",
       "        text-align: right;\n",
       "    }\n",
       "</style>\n",
       "<table border=\"1\" class=\"dataframe\">\n",
       "  <thead>\n",
       "    <tr style=\"text-align: right;\">\n",
       "      <th></th>\n",
       "      <th>labels</th>\n",
       "    </tr>\n",
       "  </thead>\n",
       "  <tbody>\n",
       "    <tr>\n",
       "      <th>0</th>\n",
       "      <td>[]</td>\n",
       "    </tr>\n",
       "    <tr>\n",
       "      <th>1</th>\n",
       "      <td>[]</td>\n",
       "    </tr>\n",
       "    <tr>\n",
       "      <th>2</th>\n",
       "      <td>[DeepSpeed]</td>\n",
       "    </tr>\n",
       "    <tr>\n",
       "      <th>3</th>\n",
       "      <td>[]</td>\n",
       "    </tr>\n",
       "    <tr>\n",
       "      <th>4</th>\n",
       "      <td>[]</td>\n",
       "    </tr>\n",
       "    <tr>\n",
       "      <th>5</th>\n",
       "      <td>[]</td>\n",
       "    </tr>\n",
       "    <tr>\n",
       "      <th>6</th>\n",
       "      <td>[]</td>\n",
       "    </tr>\n",
       "    <tr>\n",
       "      <th>7</th>\n",
       "      <td>[]</td>\n",
       "    </tr>\n",
       "    <tr>\n",
       "      <th>8</th>\n",
       "      <td>[]</td>\n",
       "    </tr>\n",
       "    <tr>\n",
       "      <th>9</th>\n",
       "      <td>[]</td>\n",
       "    </tr>\n",
       "  </tbody>\n",
       "</table>\n",
       "</div>"
      ],
      "text/plain": [
       "        labels\n",
       "0           []\n",
       "1           []\n",
       "2  [DeepSpeed]\n",
       "3           []\n",
       "4           []\n",
       "5           []\n",
       "6           []\n",
       "7           []\n",
       "8           []\n",
       "9           []"
      ]
     },
     "execution_count": 15,
     "metadata": {},
     "output_type": "execute_result"
    }
   ],
   "source": [
    "df_issues['labels'] = (df_issues['labels'].apply( lambda x: [meta['name'] for meta in x]))\n",
    "df_issues[['labels']].head(10)"
   ]
  },
  {
   "cell_type": "code",
   "execution_count": 16,
   "metadata": {},
   "outputs": [
    {
     "data": {
      "text/html": [
       "<div>\n",
       "<style scoped>\n",
       "    .dataframe tbody tr th:only-of-type {\n",
       "        vertical-align: middle;\n",
       "    }\n",
       "\n",
       "    .dataframe tbody tr th {\n",
       "        vertical-align: top;\n",
       "    }\n",
       "\n",
       "    .dataframe thead th {\n",
       "        text-align: right;\n",
       "    }\n",
       "</style>\n",
       "<table border=\"1\" class=\"dataframe\">\n",
       "  <thead>\n",
       "    <tr style=\"text-align: right;\">\n",
       "      <th>labels</th>\n",
       "      <th>0</th>\n",
       "      <th>1</th>\n",
       "      <th>2</th>\n",
       "      <th>3</th>\n",
       "      <th>4</th>\n",
       "      <th>5</th>\n",
       "    </tr>\n",
       "  </thead>\n",
       "  <tbody>\n",
       "    <tr>\n",
       "      <th>count</th>\n",
       "      <td>6440</td>\n",
       "      <td>3057</td>\n",
       "      <td>305</td>\n",
       "      <td>100</td>\n",
       "      <td>25</td>\n",
       "      <td>3</td>\n",
       "    </tr>\n",
       "  </tbody>\n",
       "</table>\n",
       "</div>"
      ],
      "text/plain": [
       "labels     0     1    2    3   4  5\n",
       "count   6440  3057  305  100  25  3"
      ]
     },
     "execution_count": 16,
     "metadata": {},
     "output_type": "execute_result"
    }
   ],
   "source": [
    "# Number of labels per issue\n",
    "df_issues['labels'].apply(lambda x: len(x)).value_counts().to_frame().T"
   ]
  },
  {
   "cell_type": "code",
   "execution_count": 17,
   "metadata": {},
   "outputs": [
    {
     "name": "stdout",
     "output_type": "stream",
     "text": [
      "Number of labels: 65\n"
     ]
    },
    {
     "data": {
      "text/html": [
       "<div>\n",
       "<style scoped>\n",
       "    .dataframe tbody tr th:only-of-type {\n",
       "        vertical-align: middle;\n",
       "    }\n",
       "\n",
       "    .dataframe tbody tr th {\n",
       "        vertical-align: top;\n",
       "    }\n",
       "\n",
       "    .dataframe thead th {\n",
       "        text-align: right;\n",
       "    }\n",
       "</style>\n",
       "<table border=\"1\" class=\"dataframe\">\n",
       "  <thead>\n",
       "    <tr style=\"text-align: right;\">\n",
       "      <th>labels</th>\n",
       "      <th>wontfix</th>\n",
       "      <th>model card</th>\n",
       "      <th>Core: Tokenization</th>\n",
       "      <th>New model</th>\n",
       "      <th>Core: Modeling</th>\n",
       "      <th>Help wanted</th>\n",
       "      <th>Good First Issue</th>\n",
       "      <th>Usage</th>\n",
       "    </tr>\n",
       "  </thead>\n",
       "  <tbody>\n",
       "    <tr>\n",
       "      <th>count</th>\n",
       "      <td>2284</td>\n",
       "      <td>649</td>\n",
       "      <td>106</td>\n",
       "      <td>98</td>\n",
       "      <td>64</td>\n",
       "      <td>52</td>\n",
       "      <td>50</td>\n",
       "      <td>46</td>\n",
       "    </tr>\n",
       "  </tbody>\n",
       "</table>\n",
       "</div>"
      ],
      "text/plain": [
       "labels  wontfix  model card  Core: Tokenization  New model  Core: Modeling  \\\n",
       "count      2284         649                 106         98              64   \n",
       "\n",
       "labels  Help wanted  Good First Issue  Usage  \n",
       "count            52                50     46  "
      ]
     },
     "execution_count": 17,
     "metadata": {},
     "output_type": "execute_result"
    }
   ],
   "source": [
    "df_counts = df_issues['labels'].explode().value_counts()\n",
    "print(f'Number of labels: {len(df_counts)}')\n",
    "#Display the top 8 labels categories\n",
    "df_counts.to_frame().head(8).T"
   ]
  },
  {
   "attachments": {},
   "cell_type": "markdown",
   "metadata": {},
   "source": [
    "Let's define the labels that we want to work with here:"
   ]
  },
  {
   "cell_type": "code",
   "execution_count": 18,
   "metadata": {},
   "outputs": [
    {
     "data": {
      "text/html": [
       "<div>\n",
       "<style scoped>\n",
       "    .dataframe tbody tr th:only-of-type {\n",
       "        vertical-align: middle;\n",
       "    }\n",
       "\n",
       "    .dataframe tbody tr th {\n",
       "        vertical-align: top;\n",
       "    }\n",
       "\n",
       "    .dataframe thead th {\n",
       "        text-align: right;\n",
       "    }\n",
       "</style>\n",
       "<table border=\"1\" class=\"dataframe\">\n",
       "  <thead>\n",
       "    <tr style=\"text-align: right;\">\n",
       "      <th>labels</th>\n",
       "      <th>tokenization</th>\n",
       "      <th>new model</th>\n",
       "      <th>model training</th>\n",
       "      <th>usage</th>\n",
       "      <th>pipeline</th>\n",
       "      <th>tensorflow</th>\n",
       "      <th>documentation</th>\n",
       "      <th>examples</th>\n",
       "    </tr>\n",
       "  </thead>\n",
       "  <tbody>\n",
       "    <tr>\n",
       "      <th>count</th>\n",
       "      <td>106</td>\n",
       "      <td>98</td>\n",
       "      <td>64</td>\n",
       "      <td>46</td>\n",
       "      <td>42</td>\n",
       "      <td>41</td>\n",
       "      <td>28</td>\n",
       "      <td>24</td>\n",
       "    </tr>\n",
       "  </tbody>\n",
       "</table>\n",
       "</div>"
      ],
      "text/plain": [
       "labels  tokenization  new model  model training  usage  pipeline  tensorflow  \\\n",
       "count            106         98              64     46        42          41   \n",
       "\n",
       "labels  documentation  examples  \n",
       "count              28        24  "
      ]
     },
     "execution_count": 18,
     "metadata": {},
     "output_type": "execute_result"
    }
   ],
   "source": [
    "label_map = {\n",
    "    'Core: Tokenization': 'tokenization',\n",
    "    'New model': 'new model',\n",
    "    'Core: Modeling': 'model training',\n",
    "    'Usage': 'usage',\n",
    "    'Core: Pipeline': 'pipeline',\n",
    "    'TensorFlow': 'tensorflow',\n",
    "    'Pytorch': 'pytorch',\n",
    "    'Examples': 'examples',\n",
    "    'Documentation': 'documentation'\n",
    "}\n",
    "\n",
    "def filter_labels(x):\n",
    "    return [label_map[label] for label in x if label in label_map]\n",
    "\n",
    "df_issues['labels'] = df_issues['labels'].apply(filter_labels)\n",
    "\n",
    "all_labels = list(label_map.values())\n",
    "\n",
    "df_counts = df_issues['labels'].explode().value_counts()\n",
    "df_counts.to_frame().T"
   ]
  },
  {
   "attachments": {},
   "cell_type": "markdown",
   "metadata": {},
   "source": [
    "Let's find out how many unlabelled issues"
   ]
  },
  {
   "cell_type": "code",
   "execution_count": 19,
   "metadata": {},
   "outputs": [
    {
     "data": {
      "text/html": [
       "<div>\n",
       "<style scoped>\n",
       "    .dataframe tbody tr th:only-of-type {\n",
       "        vertical-align: middle;\n",
       "    }\n",
       "\n",
       "    .dataframe tbody tr th {\n",
       "        vertical-align: top;\n",
       "    }\n",
       "\n",
       "    .dataframe thead th {\n",
       "        text-align: right;\n",
       "    }\n",
       "</style>\n",
       "<table border=\"1\" class=\"dataframe\">\n",
       "  <thead>\n",
       "    <tr style=\"text-align: right;\">\n",
       "      <th></th>\n",
       "      <th>count</th>\n",
       "    </tr>\n",
       "    <tr>\n",
       "      <th>split</th>\n",
       "      <th></th>\n",
       "    </tr>\n",
       "  </thead>\n",
       "  <tbody>\n",
       "    <tr>\n",
       "      <th>unlabeled</th>\n",
       "      <td>9511</td>\n",
       "    </tr>\n",
       "    <tr>\n",
       "      <th>labeled</th>\n",
       "      <td>419</td>\n",
       "    </tr>\n",
       "  </tbody>\n",
       "</table>\n",
       "</div>"
      ],
      "text/plain": [
       "           count\n",
       "split           \n",
       "unlabeled   9511\n",
       "labeled      419"
      ]
     },
     "execution_count": 19,
     "metadata": {},
     "output_type": "execute_result"
    }
   ],
   "source": [
    "df_issues['split'] = 'unlabeled'\n",
    "mask = df_issues['labels'].apply(lambda x: len(x)) > 0\n",
    "df_issues.loc[mask, 'split'] = 'labeled'\n",
    "df_issues['split'].value_counts().to_frame()"
   ]
  },
  {
   "cell_type": "code",
   "execution_count": 20,
   "metadata": {},
   "outputs": [],
   "source": [
    "# merge 'title' and 'body' into one text feature.\n",
    "df_issues['text'] = (df_issues.apply(lambda x: x['title'] + '\\n\\n' + x['body'], axis=1))"
   ]
  },
  {
   "cell_type": "code",
   "execution_count": 21,
   "metadata": {},
   "outputs": [
    {
     "name": "stdout",
     "output_type": "stream",
     "text": [
      "Removed 1.88% duplicates.\n"
     ]
    }
   ],
   "source": [
    "# drop text duplicates\n",
    "len_before = len(df_issues)\n",
    "df_issues = df_issues.drop_duplicates(subset='text')\n",
    "print(f'Removed {(len_before-len(df_issues))/len_before:.2%} duplicates.')"
   ]
  },
  {
   "attachments": {},
   "cell_type": "markdown",
   "metadata": {},
   "source": [
    "Let's have a look at the length distribution of the text"
   ]
  },
  {
   "cell_type": "code",
   "execution_count": 23,
   "metadata": {},
   "outputs": [
    {
     "data": {
      "image/png": "[encoded data removed]",
      "text/plain": [
       "<Figure size 640x480 with 1 Axes>"
      ]
     },
     "metadata": {},
     "output_type": "display_data"
    }
   ],
   "source": [
    "import numpy as np\n",
    "import matplotlib.pyplot as plt\n",
    "\n",
    "(df_issues['text'].str.split().apply(len).hist(bins=np.linspace(0,700,50), grid=False, edgecolor='C0'))\n",
    "plt.title('Words per issue')\n",
    "plt.xlabel('Number of words')\n",
    "plt.ylabel('Number of issues')\n",
    "plt.show()\n",
    "\n"
   ]
  },
  {
   "attachments": {},
   "cell_type": "markdown",
   "metadata": {},
   "source": [
    "Most of the text are under 500 words, so we can use models like BERT with a max input sequence length of 512"
   ]
  },
  {
   "attachments": {},
   "cell_type": "markdown",
   "metadata": {},
   "source": [
    "### Creating Training Sets and training splits"
   ]
  },
  {
   "cell_type": "code",
   "execution_count": 25,
   "metadata": {},
   "outputs": [
    {
     "name": "stdout",
     "output_type": "stream",
     "text": [
      "['tokenization', 'new model', 'model training', 'usage', 'pipeline', 'tensorflow', 'pytorch', 'examples', 'documentation']\n"
     ]
    }
   ],
   "source": [
    "print(all_labels)"
   ]
  },
  {
   "cell_type": "code",
   "execution_count": 26,
   "metadata": {},
   "outputs": [
    {
     "data": {
      "text/plain": [
       "array([[0, 0, 0, 1, 0, 0, 0, 1, 0],\n",
       "       [0, 0, 0, 0, 0, 1, 0, 0, 0]])"
      ]
     },
     "execution_count": 26,
     "metadata": {},
     "output_type": "execute_result"
    }
   ],
   "source": [
    "# use a multi label approach with Sklearn\n",
    "\n",
    "from sklearn.preprocessing import MultiLabelBinarizer\n",
    "\n",
    "mlb = MultiLabelBinarizer()\n",
    "mlb.fit([all_labels])\n",
    "\n",
    "#test\n",
    "mlb.transform([['tokenization', 'new model'], ['pytorch']])"
   ]
  },
  {
   "cell_type": "code",
   "execution_count": 156,
   "metadata": {},
   "outputs": [
    {
     "data": {
      "text/plain": [
       "array([[0, 0, 0, 0, 0, 0, 0, 1, 0],\n",
       "       [0, 0, 0, 0, 0, 1, 0, 0, 0],\n",
       "       [0, 0, 0, 1, 0, 0, 0, 0, 0],\n",
       "       [0, 0, 1, 0, 0, 0, 0, 0, 0],\n",
       "       [0, 0, 0, 0, 0, 0, 0, 0, 1],\n",
       "       [0, 0, 0, 0, 1, 0, 0, 0, 0],\n",
       "       [0, 1, 0, 0, 0, 0, 0, 0, 0],\n",
       "       [1, 0, 0, 0, 0, 0, 0, 0, 0],\n",
       "       [0, 0, 0, 0, 0, 0, 1, 0, 0]])"
      ]
     },
     "execution_count": 156,
     "metadata": {},
     "output_type": "execute_result"
    }
   ],
   "source": [
    "mlb.transform([['tokenization'], ['pytorch'], ['new model'], ['model training'], ['usage'], ['pipeline'], ['examples'], ['documentation'], ['tensorflow']])"
   ]
  },
  {
   "attachments": {},
   "cell_type": "markdown",
   "metadata": {},
   "source": [
    "In order to get balanced labels for our datasets, we use sklearn's iterative_train_test_split"
   ]
  },
  {
   "cell_type": "code",
   "execution_count": 28,
   "metadata": {},
   "outputs": [],
   "source": [
    "from skmultilearn.model_selection import iterative_train_test_split\n",
    "\n",
    "def balanced_split(df, test_size=0.5):\n",
    "    idx = np.expand_dims(np.arange(len(df)), axis=1)\n",
    "    labels = mlb.transform(df['labels'])\n",
    "    idx_train, _, idx_test, _ = iterative_train_test_split(idx, labels, test_size)\n",
    "    return df.iloc[idx_train[:,0]], df.iloc[idx_test[:,0]]\n"
   ]
  },
  {
   "attachments": {},
   "cell_type": "markdown",
   "metadata": {},
   "source": [
    "Now let's split the data into supervised train, validation and test set, and unsupervised set."
   ]
  },
  {
   "cell_type": "code",
   "execution_count": 29,
   "metadata": {},
   "outputs": [],
   "source": [
    "df_clean = df_issues[['text', 'labels', 'split']].reset_index(drop=True).copy()\n",
    "df_unsup = df_clean.loc[df_clean['split'] == 'unlabeled', ['text', 'labels']]\n",
    "df_sup = df_clean.loc[df_clean['split'] == 'labeled', ['text', 'labels']]\n",
    "\n",
    "np.random.seed(42)\n",
    "df_train, df_tmp = balanced_split(df_sup)\n",
    "df_valid, df_test = balanced_split(df_tmp)"
   ]
  },
  {
   "cell_type": "code",
   "execution_count": 32,
   "metadata": {},
   "outputs": [
    {
     "name": "stderr",
     "output_type": "stream",
     "text": [
      "/Users/clement/anaconda3/envs/gpu/lib/python3.9/site-packages/pyarrow/pandas_compat.py:373: FutureWarning: is_sparse is deprecated and will be removed in a future version. Check `isinstance(dtype, pd.SparseDtype)` instead.\n",
      "  if _pandas_api.is_sparse(col):\n"
     ]
    }
   ],
   "source": [
    "from datasets import Dataset, DatasetDict\n",
    "\n",
    "ds = DatasetDict({\n",
    "    'train': Dataset.from_pandas(df_train.reset_index(drop=True)),\n",
    "    'valid': Dataset.from_pandas(df_valid.reset_index(drop=True)),\n",
    "    'test': Dataset.from_pandas(df_test.reset_index(drop=True)),\n",
    "    'unsup': Dataset.from_pandas(df_unsup.reset_index(drop=True)),\n",
    "})"
   ]
  },
  {
   "attachments": {},
   "cell_type": "markdown",
   "metadata": {},
   "source": [
    "#### Create Training Slices\n",
    "\n",
    "We'll evaluate the models performances as a function of the number of training samples"
   ]
  },
  {
   "cell_type": "code",
   "execution_count": 34,
   "metadata": {},
   "outputs": [
    {
     "name": "stdout",
     "output_type": "stream",
     "text": [
      "Target split sizes: [8, 16, 32, 64, 128, 212]\n",
      "Actual split sized: [9, 18, 36, 67, 132, 212]\n"
     ]
    }
   ],
   "source": [
    "np.random.seed(42)\n",
    "all_indices = np.expand_dims(list(range(len(ds['train']))), axis=1)\n",
    "indices_pool = all_indices\n",
    "labels = mlb.transform(ds['train']['labels'])\n",
    "train_samples = [8, 16, 32, 64, 128]\n",
    "train_slices, last_k = [], 0\n",
    "\n",
    "for i,k in enumerate(train_samples):\n",
    "    # split off samples necessary to fill the gap to the next split size\n",
    "    indices_pool, labels, new_slice, _ = iterative_train_test_split(indices_pool, labels, (k-last_k)/len(labels))\n",
    "    last_k = k\n",
    "    if i == 0:\n",
    "        train_slices.append(new_slice)\n",
    "    else:\n",
    "        train_slices.append(np.concatenate((train_slices[-1], new_slice)))\n",
    "\n",
    "# add full dataset as last slice\n",
    "train_slices.append(all_indices)\n",
    "train_samples.append(len(ds['train']))\n",
    "train_slices = [np.squeeze(train_slice) for train_slice in train_slices]\n",
    "\n",
    "print(f'Target split sizes: {train_samples}')\n",
    "print(f'Actual split sized: {[len(x) for x in train_slices]}')"
   ]
  },
  {
   "attachments": {},
   "cell_type": "markdown",
   "metadata": {},
   "source": [
    "### Implement Naive Bayes classifier as a baseline"
   ]
  },
  {
   "cell_type": "code",
   "execution_count": 36,
   "metadata": {},
   "outputs": [
    {
     "data": {
      "application/vnd.jupyter.widget-view+json": {
       "model_id": "30c7943a173e45c1a869b771912a2a25",
       "version_major": 2,
       "version_minor": 0
      },
      "text/plain": [
       "Map:   0%|          | 0/212 [00:00<?, ? examples/s]"
      ]
     },
     "metadata": {},
     "output_type": "display_data"
    },
    {
     "data": {
      "application/vnd.jupyter.widget-view+json": {
       "model_id": "81690d55524c45f9852137d7a7b287d0",
       "version_major": 2,
       "version_minor": 0
      },
      "text/plain": [
       "Map:   0%|          | 0/104 [00:00<?, ? examples/s]"
      ]
     },
     "metadata": {},
     "output_type": "display_data"
    },
    {
     "data": {
      "application/vnd.jupyter.widget-view+json": {
       "model_id": "c275d88910ce44d598c7b476fd11d28e",
       "version_major": 2,
       "version_minor": 0
      },
      "text/plain": [
       "Map:   0%|          | 0/102 [00:00<?, ? examples/s]"
      ]
     },
     "metadata": {},
     "output_type": "display_data"
    },
    {
     "data": {
      "application/vnd.jupyter.widget-view+json": {
       "model_id": "6c16a29e71874e2fb39b7522620fab2b",
       "version_major": 2,
       "version_minor": 0
      },
      "text/plain": [
       "Map:   0%|          | 0/9325 [00:00<?, ? examples/s]"
      ]
     },
     "metadata": {},
     "output_type": "display_data"
    }
   ],
   "source": [
    "def prepare_labels(batch):\n",
    "    batch['label_ids'] = mlb.transform(batch['labels'])\n",
    "    return batch\n",
    "\n",
    "ds = ds.map(prepare_labels, batched=True)"
   ]
  },
  {
   "cell_type": "code",
   "execution_count": 39,
   "metadata": {},
   "outputs": [
    {
     "data": {
      "text/plain": [
       "[[0, 0, 0, 1, 0, 0, 0, 0, 0],\n",
       " [0, 0, 0, 1, 0, 0, 0, 0, 0],\n",
       " [0, 0, 0, 1, 0, 0, 0, 0, 0],\n",
       " [0, 0, 0, 1, 0, 0, 0, 0, 0],\n",
       " [0, 1, 0, 0, 0, 0, 0, 0, 0]]"
      ]
     },
     "execution_count": 39,
     "metadata": {},
     "output_type": "execute_result"
    }
   ],
   "source": [
    "ds['train']['label_ids'][0:5]"
   ]
  },
  {
   "attachments": {},
   "cell_type": "markdown",
   "metadata": {},
   "source": [
    "Prepare the metrics: F1 score micro and macro"
   ]
  },
  {
   "cell_type": "code",
   "execution_count": 42,
   "metadata": {},
   "outputs": [
    {
     "data": {
      "image/png": "[encoded data removed]",
      "text/plain": [
       "<Figure size 1000x400 with 2 Axes>"
      ]
     },
     "metadata": {},
     "output_type": "display_data"
    }
   ],
   "source": [
    "from collections import defaultdict\n",
    "\n",
    "macro_scores, micro_scores = defaultdict(list), defaultdict(list)\n",
    "\n",
    "# Naive Bayes model\n",
    "\n",
    "from sklearn.naive_bayes import MultinomialNB\n",
    "from sklearn.metrics import classification_report\n",
    "from skmultilearn.problem_transform import BinaryRelevance\n",
    "from sklearn.feature_extraction.text import CountVectorizer\n",
    "\n",
    "for train_slice in train_slices:\n",
    "    # get training slice and test data\n",
    "    ds_train_sample = ds['train'].select(train_slice)\n",
    "    y_train = np.array(ds_train_sample['label_ids'])\n",
    "    y_test = np.array(ds['test']['label_ids'])\n",
    "    # Use CountVectorizer to encode text\n",
    "    count_vect = CountVectorizer()\n",
    "    X_train = count_vect.fit_transform(ds_train_sample['text'])\n",
    "    X_test = count_vect.transform(ds['test']['text'])\n",
    "    # Create and train model\n",
    "    # we train multiple Naive Bayes classifier to handle the multi-labels\n",
    "    classifier = BinaryRelevance(classifier=MultinomialNB())\n",
    "    classifier.fit(X_train, y_train)\n",
    "    # Generate predictions and evaluate\n",
    "    y_pred_test = classifier.predict(X_test)\n",
    "    clf_report = classification_report(y_test, y_pred_test, target_names=mlb.classes_, zero_division=0, output_dict=True)\n",
    "    # Store metrics\n",
    "    macro_scores['Naive Bayes'].append(clf_report['macro avg']['f1-score'])\n",
    "    micro_scores['Naive Bayes'].append(clf_report['micro avg']['f1-score'])\n",
    "\n",
    "import matplotlib.pyplot as plt\n",
    "\n",
    "def plot_metrics(micro_scores, macro_scores, sample_sizes, current_model):\n",
    "    fig, (ax0, ax1) = plt.subplots(1, 2, figsize=(10,4), sharey=True)\n",
    "    for run in micro_scores.keys():\n",
    "        if run == current_model:\n",
    "            ax0.plot(sample_sizes, micro_scores[run], label=run, linewidth=2)\n",
    "            ax1.plot(sample_sizes, macro_scores[run], label=run, linewidth=2)\n",
    "        else:\n",
    "            ax0.plot(sample_sizes, micro_scores[run], label=run, linestyle='dashed')\n",
    "            ax1.plot(sample_sizes, macro_scores[run], label=run, linestyle='dashed')\n",
    "    ax0.set_title('Micro F1 Score')\n",
    "    ax1.set_title('Macro F1 Score')\n",
    "    ax0.set_ylabel('Test set F1 score')\n",
    "    ax0.legend(loc='lower right')\n",
    "    for ax in [ax0, ax1]:\n",
    "        ax.set_xlabel('Number of training sample')\n",
    "        ax.set_xscale('log')\n",
    "        ax.set_xticks(sample_sizes)\n",
    "        ax.set_xticklabels(sample_sizes)\n",
    "        ax.minorticks_off()\n",
    "    plt.tight_layout()\n",
    "    plt.show()\n",
    "\n",
    "\n",
    "plot_metrics(micro_scores, macro_scores, train_samples, 'Naive Bayes')\n",
    "\n"
   ]
  },
  {
   "attachments": {},
   "cell_type": "markdown",
   "metadata": {},
   "source": [
    "### Zero-Shot Classification"
   ]
  },
  {
   "cell_type": "code",
   "execution_count": 43,
   "metadata": {},
   "outputs": [
    {
     "name": "stderr",
     "output_type": "stream",
     "text": [
      "No model was supplied, defaulted to facebook/bart-large-mnli and revision c626438 (https://huggingface.co/facebook/bart-large-mnli).\n",
      "Using a pipeline without specifying a model name and revision in production is not recommended.\n"
     ]
    }
   ],
   "source": [
    "from transformers import pipeline\n",
    "\n",
    "pipe = pipeline('zero-shot-classification', device='mps')"
   ]
  },
  {
   "cell_type": "code",
   "execution_count": 45,
   "metadata": {},
   "outputs": [
    {
     "name": "stdout",
     "output_type": "stream",
     "text": [
      "labels: ['tensorflow']\n",
      "Predictions:\n",
      "tensorflow, 0.56\n",
      "examples, 0.53\n",
      "pytorch, 0.52\n",
      "new model, 0.46\n",
      "usage, 0.27\n",
      "pipeline, 0.20\n",
      "tokenization, 0.10\n",
      "model training, 0.08\n",
      "documentation, 0.05\n"
     ]
    }
   ],
   "source": [
    "sample = ds['train'][10]\n",
    "print(f\"labels: {sample['labels']}\")\n",
    "output = pipe(sample['text'], all_labels, multi_label=True)\n",
    "print('Predictions:')\n",
    "for label, score in zip(output['labels'], output['scores']):\n",
    "    print(f'{label}, {score:.2f}')"
   ]
  },
  {
   "cell_type": "code",
   "execution_count": 46,
   "metadata": {},
   "outputs": [
    {
     "data": {
      "application/vnd.jupyter.widget-view+json": {
       "model_id": "fef5f8dba381469f899730b7dd8a5d0a",
       "version_major": 2,
       "version_minor": 0
      },
      "text/plain": [
       "Map:   0%|          | 0/104 [00:00<?, ? examples/s]"
      ]
     },
     "metadata": {},
     "output_type": "display_data"
    }
   ],
   "source": [
    "def zero_shot_pipeline(example):\n",
    "    output = pipe(example['text'], all_labels, multi_label=True)\n",
    "    example['predicted_labels'] = output['labels']\n",
    "    example['scores'] = output['scores']\n",
    "    return example"
   ]
  },
  {
   "cell_type": "code",
   "execution_count": 47,
   "metadata": {},
   "outputs": [],
   "source": [
    "# Define a get_preds function that can select labels based on a min threshold or a top k\n",
    "def get_preds(example, threshold=None, topk = None):\n",
    "    preds = []\n",
    "    if threshold:\n",
    "        for label, score in zip(example['predicted_labels'], example['scores']):\n",
    "            if score > threshold:\n",
    "                preds.append(label)\n",
    "    elif topk:\n",
    "        for i in range(topk):\n",
    "            preds.append(example['predicted_labels'][i])\n",
    "    else:\n",
    "        raise ValueError('Set either threshold or topk')\n",
    "    return {'pred_label_ids': list(np.squeeze(mlb.transform([preds])))}\n",
    "\n",
    "# Define a function that return the classification report from a dataset with predicted labels\n",
    "def get_clf_report(ds):\n",
    "    y_true = np.array(ds['label_ids'])\n",
    "    y_pred = np.array(ds['pred_label_ids'])\n",
    "    return classification_report(y_true, y_pred, target_names=mlb.classes_, zero_division=0, output_dict=True)"
   ]
  },
  {
   "attachments": {},
   "cell_type": "markdown",
   "metadata": {},
   "source": [
    "We decide to only select the top 1 label with zero shot classification."
   ]
  },
  {
   "cell_type": "code",
   "execution_count": 48,
   "metadata": {},
   "outputs": [
    {
     "data": {
      "application/vnd.jupyter.widget-view+json": {
       "model_id": "129547b3629b42c98a862f153dce70ba",
       "version_major": 2,
       "version_minor": 0
      },
      "text/plain": [
       "Map:   0%|          | 0/102 [00:00<?, ? examples/s]"
      ]
     },
     "metadata": {},
     "output_type": "display_data"
    },
    {
     "data": {
      "application/vnd.jupyter.widget-view+json": {
       "model_id": "822e39734598496ebac307adca81093c",
       "version_major": 2,
       "version_minor": 0
      },
      "text/plain": [
       "Map:   0%|          | 0/102 [00:00<?, ? examples/s]"
      ]
     },
     "metadata": {},
     "output_type": "display_data"
    },
    {
     "data": {
      "image/png": "[encoded data removed]",
      "text/plain": [
       "<Figure size 1000x400 with 2 Axes>"
      ]
     },
     "metadata": {},
     "output_type": "display_data"
    }
   ],
   "source": [
    "ds_zero_shot = ds['test'].map(zero_shot_pipeline)\n",
    "ds_zero_shot = ds_zero_shot.map(get_preds, fn_kwargs={'topk': 1})\n",
    "clf_report = get_clf_report(ds_zero_shot)\n",
    "for train_slice in train_slices:\n",
    "    macro_scores['Zero-Shot'].append(clf_report['macro avg']['f1-score'])\n",
    "    micro_scores['Zero-Shot'].append(clf_report['micro avg']['f1-score'])\n",
    "\n"
   ]
  },
  {
   "cell_type": "code",
   "execution_count": 49,
   "metadata": {},
   "outputs": [
    {
     "data": {
      "image/png": "[encoded data removed]",
      "text/plain": [
       "<Figure size 1000x400 with 2 Axes>"
      ]
     },
     "metadata": {},
     "output_type": "display_data"
    }
   ],
   "source": [
    "plot_metrics(micro_scores, macro_scores, train_samples, 'Zero-Shot')"
   ]
  },
  {
   "attachments": {},
   "cell_type": "markdown",
   "metadata": {},
   "source": [
    "### Fine-Tuning a Vanilla BERT Model (no domain adaptation)"
   ]
  },
  {
   "cell_type": "code",
   "execution_count": 50,
   "metadata": {},
   "outputs": [],
   "source": [
    "import torch\n",
    "from transformers import (AutoTokenizer, AutoConfig, AutoModelForSequenceClassification)\n",
    "\n",
    "model_id = 'bert-base-uncased'\n",
    "tokenizer = AutoTokenizer.from_pretrained(model_id)"
   ]
  },
  {
   "cell_type": "code",
   "execution_count": 51,
   "metadata": {},
   "outputs": [
    {
     "data": {
      "application/vnd.jupyter.widget-view+json": {
       "model_id": "3cd0a4d1d97a453a9e653b611558334d",
       "version_major": 2,
       "version_minor": 0
      },
      "text/plain": [
       "Map:   0%|          | 0/212 [00:00<?, ? examples/s]"
      ]
     },
     "metadata": {},
     "output_type": "display_data"
    },
    {
     "data": {
      "application/vnd.jupyter.widget-view+json": {
       "model_id": "02ef337ee71e4eaabd64f50fb22c5eaf",
       "version_major": 2,
       "version_minor": 0
      },
      "text/plain": [
       "Map:   0%|          | 0/104 [00:00<?, ? examples/s]"
      ]
     },
     "metadata": {},
     "output_type": "display_data"
    },
    {
     "data": {
      "application/vnd.jupyter.widget-view+json": {
       "model_id": "c1b50ddc37234f65b7ed06cdc5b6fce0",
       "version_major": 2,
       "version_minor": 0
      },
      "text/plain": [
       "Map:   0%|          | 0/102 [00:00<?, ? examples/s]"
      ]
     },
     "metadata": {},
     "output_type": "display_data"
    },
    {
     "data": {
      "application/vnd.jupyter.widget-view+json": {
       "model_id": "6ced95364ee04e83ae4259b521836d78",
       "version_major": 2,
       "version_minor": 0
      },
      "text/plain": [
       "Map:   0%|          | 0/9325 [00:00<?, ? examples/s]"
      ]
     },
     "metadata": {},
     "output_type": "display_data"
    }
   ],
   "source": [
    "def tokenize(batch):\n",
    "    return tokenizer(batch['text'], truncation=True, max_length=500)\n",
    "\n",
    "ds_enc = ds.map(tokenize, batched=True)\n",
    "ds_enc = ds_enc.remove_columns(['labels', 'text'])"
   ]
  },
  {
   "cell_type": "code",
   "execution_count": 52,
   "metadata": {},
   "outputs": [
    {
     "data": {
      "application/vnd.jupyter.widget-view+json": {
       "model_id": "c396a25572b844b99980ae22c3a93cbb",
       "version_major": 2,
       "version_minor": 0
      },
      "text/plain": [
       "Map:   0%|          | 0/212 [00:00<?, ? examples/s]"
      ]
     },
     "metadata": {},
     "output_type": "display_data"
    },
    {
     "data": {
      "application/vnd.jupyter.widget-view+json": {
       "model_id": "b7546e4fc95c44baa1ab30235a68c8b7",
       "version_major": 2,
       "version_minor": 0
      },
      "text/plain": [
       "Map:   0%|          | 0/104 [00:00<?, ? examples/s]"
      ]
     },
     "metadata": {},
     "output_type": "display_data"
    },
    {
     "data": {
      "application/vnd.jupyter.widget-view+json": {
       "model_id": "2de0add5a5b54cf8869e625f5cb9f025",
       "version_major": 2,
       "version_minor": 0
      },
      "text/plain": [
       "Map:   0%|          | 0/102 [00:00<?, ? examples/s]"
      ]
     },
     "metadata": {},
     "output_type": "display_data"
    },
    {
     "data": {
      "application/vnd.jupyter.widget-view+json": {
       "model_id": "e97bc0e7a9dd4daa96d4185922f00396",
       "version_major": 2,
       "version_minor": 0
      },
      "text/plain": [
       "Map:   0%|          | 0/9325 [00:00<?, ? examples/s]"
      ]
     },
     "metadata": {},
     "output_type": "display_data"
    }
   ],
   "source": [
    "# The multi-label loss function expects float for labels so we need to preprocess it\n",
    "ds_enc.set_format('torch')\n",
    "ds_enc = ds_enc.map(lambda x: {'label_ids_f': x['label_ids'].to(torch.float)}, remove_columns=['label_ids'])\n",
    "ds_enc = ds_enc.rename_column('label_ids_f', 'label_ids')"
   ]
  },
  {
   "cell_type": "code",
   "execution_count": 53,
   "metadata": {},
   "outputs": [
    {
     "data": {
      "text/plain": [
       "DatasetDict({\n",
       "    train: Dataset({\n",
       "        features: ['input_ids', 'token_type_ids', 'attention_mask', 'label_ids'],\n",
       "        num_rows: 212\n",
       "    })\n",
       "    valid: Dataset({\n",
       "        features: ['input_ids', 'token_type_ids', 'attention_mask', 'label_ids'],\n",
       "        num_rows: 104\n",
       "    })\n",
       "    test: Dataset({\n",
       "        features: ['input_ids', 'token_type_ids', 'attention_mask', 'label_ids'],\n",
       "        num_rows: 102\n",
       "    })\n",
       "    unsup: Dataset({\n",
       "        features: ['input_ids', 'token_type_ids', 'attention_mask', 'label_ids'],\n",
       "        num_rows: 9325\n",
       "    })\n",
       "})"
      ]
     },
     "execution_count": 53,
     "metadata": {},
     "output_type": "execute_result"
    }
   ],
   "source": [
    "ds_enc"
   ]
  },
  {
   "attachments": {},
   "cell_type": "markdown",
   "metadata": {},
   "source": [
    "Now we can start training. Since we're likely to overfit on small traning slices, we set load_best_model_at_end=True"
   ]
  },
  {
   "cell_type": "code",
   "execution_count": 55,
   "metadata": {},
   "outputs": [],
   "source": [
    "from transformers import Trainer, TrainingArguments\n",
    "\n",
    "training_args_fine_tune = TrainingArguments(\n",
    "    output_dir='./results',\n",
    "    num_train_epochs=20,\n",
    "    learning_rate=3e-5,\n",
    "    lr_scheduler_type='constant',\n",
    "    per_device_train_batch_size=4,\n",
    "    per_device_eval_batch_size=32,\n",
    "    weight_decay=0.0,\n",
    "    evaluation_strategy='epoch',\n",
    "    save_strategy='epoch',\n",
    "    logging_strategy='epoch',\n",
    "    load_best_model_at_end=True,\n",
    "    metric_for_best_model='micro f1',\n",
    "    save_total_limit=1,\n",
    "    log_level='error'\n",
    ")\n"
   ]
  },
  {
   "attachments": {},
   "cell_type": "markdown",
   "metadata": {},
   "source": [
    "Because the model return logits, we need to normalize the logits with a sigmoid function and apply a threshold to output a label vector of 0 and 1."
   ]
  },
  {
   "cell_type": "code",
   "execution_count": 56,
   "metadata": {},
   "outputs": [],
   "source": [
    "from scipy.special import expit as sigmoid\n",
    "\n",
    "def compute_metrics(pred):\n",
    "    y_true = pred.label_ids\n",
    "    y_pred = sigmoid(pred.predictions)\n",
    "    y_pred = (y_pred>0.5).astype(float)\n",
    "\n",
    "    clf_dict = classification_report(y_true, y_pred, target_names=all_labels, zero_division=0, output_dict=True)\n",
    "    return {'micro f1': clf_dict['micro avg']['f1-score'],\n",
    "            'macro f1': clf_dict['macro avg']['f1-score']}"
   ]
  },
  {
   "attachments": {},
   "cell_type": "markdown",
   "metadata": {},
   "source": [
    "Now we're ready to train, on each training slices"
   ]
  },
  {
   "cell_type": "code",
   "execution_count": null,
   "metadata": {},
   "outputs": [],
   "source": [
    "config = AutoConfig.from_pretrained(model_id)\n",
    "config.num_labels = len(all_labels)\n",
    "config.problem_type = 'multi_label_classification'\n",
    "\n",
    "for train_slice in train_slices:\n",
    "    model = AutoModelForSequenceClassification.from_pretrained(model_id, config=config)\n",
    "    trainer = Trainer(\n",
    "        model=model,\n",
    "        tokenizer=tokenizer,\n",
    "        args=training_args_fine_tune,\n",
    "        compute_metrics=compute_metrics,\n",
    "        train_dataset=ds_enc['train'].select(train_slice),\n",
    "        eval_dataset=ds_enc['valid'],\n",
    "    )\n",
    "    trainer.train()\n",
    "    pred = trainer.predict(ds_enc['test'])\n",
    "    metrics = compute_metrics(pred)\n",
    "    macro_scores['Fine-tune (vanilla)'].append(metrics['macro f1'])\n",
    "    micro_scores['Fine-tune (vanilla)'].append(metrics['micro f1'])\n",
    "\n"
   ]
  },
  {
   "cell_type": "code",
   "execution_count": 58,
   "metadata": {},
   "outputs": [
    {
     "data": {
      "image/png": "[encoded data removed]",
      "text/plain": [
       "<Figure size 1000x400 with 2 Axes>"
      ]
     },
     "metadata": {},
     "output_type": "display_data"
    }
   ],
   "source": [
    "plot_metrics(micro_scores, macro_scores, train_samples, 'Fine-tune (vanilla)')"
   ]
  },
  {
   "attachments": {},
   "cell_type": "markdown",
   "metadata": {},
   "source": [
    "### Fine-tuning a BERT model with Domain Adaptation"
   ]
  },
  {
   "attachments": {},
   "cell_type": "markdown",
   "metadata": {},
   "source": [
    "We will use the unsupervised dataset, that is unlabeled, to pre-train the BERT model with Mask Language Modeling.\n",
    "\n",
    "In order to do this, we need a special tokenizer that masks special tokens like [CLS] or [SEP]. \n",
    "\n",
    "And a Data Collator that will randomly mask a token in the input sentence, and the BERT model will have to predict what the masked token is durint the training phase."
   ]
  },
  {
   "cell_type": "code",
   "execution_count": 71,
   "metadata": {},
   "outputs": [
    {
     "data": {
      "application/vnd.jupyter.widget-view+json": {
       "model_id": "337165cc2b294ace83d0a79304f8e329",
       "version_major": 2,
       "version_minor": 0
      },
      "text/plain": [
       "Map:   0%|          | 0/212 [00:00<?, ? examples/s]"
      ]
     },
     "metadata": {},
     "output_type": "display_data"
    },
    {
     "data": {
      "application/vnd.jupyter.widget-view+json": {
       "model_id": "213961a712164e6a9ca0f524fc1504c2",
       "version_major": 2,
       "version_minor": 0
      },
      "text/plain": [
       "Map:   0%|          | 0/104 [00:00<?, ? examples/s]"
      ]
     },
     "metadata": {},
     "output_type": "display_data"
    },
    {
     "data": {
      "application/vnd.jupyter.widget-view+json": {
       "model_id": "016e134fc6fa45a8bb264401ad6491d1",
       "version_major": 2,
       "version_minor": 0
      },
      "text/plain": [
       "Map:   0%|          | 0/102 [00:00<?, ? examples/s]"
      ]
     },
     "metadata": {},
     "output_type": "display_data"
    },
    {
     "data": {
      "application/vnd.jupyter.widget-view+json": {
       "model_id": "43095127a22147a0b241aca31a097fbb",
       "version_major": 2,
       "version_minor": 0
      },
      "text/plain": [
       "Map:   0%|          | 0/9325 [00:00<?, ? examples/s]"
      ]
     },
     "metadata": {},
     "output_type": "display_data"
    }
   ],
   "source": [
    "def tokenize(batch):\n",
    "    return tokenizer(batch['text'], truncation=True, max_length=300, return_special_tokens_mask=True)\n",
    "\n",
    "ds_mlm = ds.map(tokenize, batched=True)\n",
    "ds_mlm = ds_mlm.remove_columns(['labels', 'text', 'label_ids'])"
   ]
  },
  {
   "cell_type": "code",
   "execution_count": 72,
   "metadata": {},
   "outputs": [
    {
     "data": {
      "text/html": [
       "<div>\n",
       "<style scoped>\n",
       "    .dataframe tbody tr th:only-of-type {\n",
       "        vertical-align: middle;\n",
       "    }\n",
       "\n",
       "    .dataframe tbody tr th {\n",
       "        vertical-align: top;\n",
       "    }\n",
       "\n",
       "    .dataframe thead th {\n",
       "        text-align: right;\n",
       "    }\n",
       "</style>\n",
       "<table border=\"1\" class=\"dataframe\">\n",
       "  <thead>\n",
       "    <tr style=\"text-align: right;\">\n",
       "      <th></th>\n",
       "      <th>Original Tokens</th>\n",
       "      <th>Masked Tokens</th>\n",
       "      <th>Original input_ids</th>\n",
       "      <th>Masked input_ids</th>\n",
       "      <th>Labels</th>\n",
       "    </tr>\n",
       "  </thead>\n",
       "  <tbody>\n",
       "    <tr>\n",
       "      <th>0</th>\n",
       "      <td>[CLS]</td>\n",
       "      <td>[CLS]</td>\n",
       "      <td>101</td>\n",
       "      <td>101</td>\n",
       "      <td>-100</td>\n",
       "    </tr>\n",
       "    <tr>\n",
       "      <th>1</th>\n",
       "      <td>this</td>\n",
       "      <td>[MASK]</td>\n",
       "      <td>2023</td>\n",
       "      <td>103</td>\n",
       "      <td>2023</td>\n",
       "    </tr>\n",
       "    <tr>\n",
       "      <th>2</th>\n",
       "      <td>is</td>\n",
       "      <td>is</td>\n",
       "      <td>2003</td>\n",
       "      <td>2003</td>\n",
       "      <td>-100</td>\n",
       "    </tr>\n",
       "    <tr>\n",
       "      <th>3</th>\n",
       "      <td>a</td>\n",
       "      <td>a</td>\n",
       "      <td>1037</td>\n",
       "      <td>1037</td>\n",
       "      <td>-100</td>\n",
       "    </tr>\n",
       "    <tr>\n",
       "      <th>4</th>\n",
       "      <td>longer</td>\n",
       "      <td>longer</td>\n",
       "      <td>2936</td>\n",
       "      <td>2936</td>\n",
       "      <td>-100</td>\n",
       "    </tr>\n",
       "    <tr>\n",
       "      <th>5</th>\n",
       "      <td>sentence</td>\n",
       "      <td>sentence</td>\n",
       "      <td>6251</td>\n",
       "      <td>6251</td>\n",
       "      <td>-100</td>\n",
       "    </tr>\n",
       "    <tr>\n",
       "      <th>6</th>\n",
       "      <td>to</td>\n",
       "      <td>to</td>\n",
       "      <td>2000</td>\n",
       "      <td>2000</td>\n",
       "      <td>-100</td>\n",
       "    </tr>\n",
       "    <tr>\n",
       "      <th>7</th>\n",
       "      <td>say</td>\n",
       "      <td>[MASK]</td>\n",
       "      <td>2360</td>\n",
       "      <td>103</td>\n",
       "      <td>2360</td>\n",
       "    </tr>\n",
       "    <tr>\n",
       "      <th>8</th>\n",
       "      <td>that</td>\n",
       "      <td>that</td>\n",
       "      <td>2008</td>\n",
       "      <td>2008</td>\n",
       "      <td>-100</td>\n",
       "    </tr>\n",
       "    <tr>\n",
       "      <th>9</th>\n",
       "      <td>i</td>\n",
       "      <td>i</td>\n",
       "      <td>1045</td>\n",
       "      <td>1045</td>\n",
       "      <td>-100</td>\n",
       "    </tr>\n",
       "    <tr>\n",
       "      <th>10</th>\n",
       "      <td>really</td>\n",
       "      <td>really</td>\n",
       "      <td>2428</td>\n",
       "      <td>2428</td>\n",
       "      <td>-100</td>\n",
       "    </tr>\n",
       "    <tr>\n",
       "      <th>11</th>\n",
       "      <td>enjoy</td>\n",
       "      <td>ties</td>\n",
       "      <td>5959</td>\n",
       "      <td>7208</td>\n",
       "      <td>5959</td>\n",
       "    </tr>\n",
       "    <tr>\n",
       "      <th>12</th>\n",
       "      <td>working</td>\n",
       "      <td>working</td>\n",
       "      <td>2551</td>\n",
       "      <td>2551</td>\n",
       "      <td>-100</td>\n",
       "    </tr>\n",
       "    <tr>\n",
       "      <th>13</th>\n",
       "      <td>with</td>\n",
       "      <td>with</td>\n",
       "      <td>2007</td>\n",
       "      <td>2007</td>\n",
       "      <td>-100</td>\n",
       "    </tr>\n",
       "    <tr>\n",
       "      <th>14</th>\n",
       "      <td>trans</td>\n",
       "      <td>trans</td>\n",
       "      <td>9099</td>\n",
       "      <td>9099</td>\n",
       "      <td>-100</td>\n",
       "    </tr>\n",
       "    <tr>\n",
       "      <th>15</th>\n",
       "      <td>##fo</td>\n",
       "      <td>##fo</td>\n",
       "      <td>14876</td>\n",
       "      <td>14876</td>\n",
       "      <td>-100</td>\n",
       "    </tr>\n",
       "    <tr>\n",
       "      <th>16</th>\n",
       "      <td>##mers</td>\n",
       "      <td>##mers</td>\n",
       "      <td>16862</td>\n",
       "      <td>16862</td>\n",
       "      <td>-100</td>\n",
       "    </tr>\n",
       "    <tr>\n",
       "      <th>17</th>\n",
       "      <td>and</td>\n",
       "      <td>and</td>\n",
       "      <td>1998</td>\n",
       "      <td>1998</td>\n",
       "      <td>-100</td>\n",
       "    </tr>\n",
       "    <tr>\n",
       "      <th>18</th>\n",
       "      <td>hugging</td>\n",
       "      <td>hugging</td>\n",
       "      <td>17662</td>\n",
       "      <td>17662</td>\n",
       "      <td>-100</td>\n",
       "    </tr>\n",
       "    <tr>\n",
       "      <th>19</th>\n",
       "      <td>##face</td>\n",
       "      <td>##face</td>\n",
       "      <td>12172</td>\n",
       "      <td>12172</td>\n",
       "      <td>-100</td>\n",
       "    </tr>\n",
       "    <tr>\n",
       "      <th>20</th>\n",
       "      <td>.</td>\n",
       "      <td>.</td>\n",
       "      <td>1012</td>\n",
       "      <td>1012</td>\n",
       "      <td>-100</td>\n",
       "    </tr>\n",
       "    <tr>\n",
       "      <th>21</th>\n",
       "      <td>[SEP]</td>\n",
       "      <td>[SEP]</td>\n",
       "      <td>102</td>\n",
       "      <td>102</td>\n",
       "      <td>-100</td>\n",
       "    </tr>\n",
       "  </tbody>\n",
       "</table>\n",
       "</div>"
      ],
      "text/plain": [
       "   Original Tokens Masked Tokens  Original input_ids  Masked input_ids  Labels\n",
       "0            [CLS]         [CLS]                 101               101    -100\n",
       "1             this        [MASK]                2023               103    2023\n",
       "2               is            is                2003              2003    -100\n",
       "3                a             a                1037              1037    -100\n",
       "4           longer        longer                2936              2936    -100\n",
       "5         sentence      sentence                6251              6251    -100\n",
       "6               to            to                2000              2000    -100\n",
       "7              say        [MASK]                2360               103    2360\n",
       "8             that          that                2008              2008    -100\n",
       "9                i             i                1045              1045    -100\n",
       "10          really        really                2428              2428    -100\n",
       "11           enjoy          ties                5959              7208    5959\n",
       "12         working       working                2551              2551    -100\n",
       "13            with          with                2007              2007    -100\n",
       "14           trans         trans                9099              9099    -100\n",
       "15            ##fo          ##fo               14876             14876    -100\n",
       "16          ##mers        ##mers               16862             16862    -100\n",
       "17             and           and                1998              1998    -100\n",
       "18         hugging       hugging               17662             17662    -100\n",
       "19          ##face        ##face               12172             12172    -100\n",
       "20               .             .                1012              1012    -100\n",
       "21           [SEP]         [SEP]                 102               102    -100"
      ]
     },
     "execution_count": 72,
     "metadata": {},
     "output_type": "execute_result"
    }
   ],
   "source": [
    "from transformers import DataCollatorForLanguageModeling, set_seed\n",
    "\n",
    "data_collator = DataCollatorForLanguageModeling(tokenizer=tokenizer, mlm_probability=0.15) # Same probability as in BERT paper\n",
    "set_seed(42)\n",
    "data_collator.return_tensors = 'np'\n",
    "\n",
    "inputs = tokenizer(\"This is a longer sentence to say that I really enjoy working with transfomers and huggingface.\", return_tensors='np')\n",
    "outputs = data_collator([{'input_ids': inputs['input_ids'][0]}])\n",
    "\n",
    "pd.DataFrame({\n",
    "    'Original Tokens': tokenizer.convert_ids_to_tokens(inputs['input_ids'][0]),\n",
    "    'Masked Tokens': tokenizer.convert_ids_to_tokens(outputs['input_ids'][0]),\n",
    "    'Original input_ids': inputs['input_ids'][0],\n",
    "    'Masked input_ids': outputs['input_ids'][0],\n",
    "    'Labels': outputs['labels'][0],\n",
    "})"
   ]
  },
  {
   "cell_type": "code",
   "execution_count": 73,
   "metadata": {},
   "outputs": [],
   "source": [
    "# back to pytorch\n",
    "data_collator.return_tensors = 'pt'"
   ]
  },
  {
   "cell_type": "code",
   "execution_count": 74,
   "metadata": {},
   "outputs": [
    {
     "name": "stdout",
     "output_type": "stream",
     "text": [
      "{'loss': 1.8844, 'learning_rate': 4.6875e-05, 'epoch': 1.0}\n",
      "{'eval_loss': 1.5801472663879395, 'eval_runtime': 6.5519, 'eval_samples_per_second': 32.357, 'eval_steps_per_second': 4.121, 'epoch': 1.0}\n",
      "{'loss': 1.4336, 'learning_rate': 4.375e-05, 'epoch': 2.0}\n",
      "{'eval_loss': 1.3510993719100952, 'eval_runtime': 3.5829, 'eval_samples_per_second': 59.169, 'eval_steps_per_second': 7.536, 'epoch': 2.0}\n",
      "{'loss': 1.3005, 'learning_rate': 4.0625000000000005e-05, 'epoch': 3.0}\n",
      "{'eval_loss': 1.3213118314743042, 'eval_runtime': 3.259, 'eval_samples_per_second': 65.051, 'eval_steps_per_second': 8.285, 'epoch': 3.0}\n",
      "{'loss': 1.2259, 'learning_rate': 3.7500000000000003e-05, 'epoch': 4.0}\n",
      "{'eval_loss': 1.313460111618042, 'eval_runtime': 2.5019, 'eval_samples_per_second': 84.736, 'eval_steps_per_second': 10.792, 'epoch': 4.0}\n",
      "{'loss': 1.1555, 'learning_rate': 3.4375e-05, 'epoch': 5.0}\n",
      "{'eval_loss': 1.211537480354309, 'eval_runtime': 3.2276, 'eval_samples_per_second': 65.684, 'eval_steps_per_second': 8.365, 'epoch': 5.0}\n",
      "{'loss': 1.1244, 'learning_rate': 3.125e-05, 'epoch': 6.0}\n",
      "{'eval_loss': 1.108626127243042, 'eval_runtime': 3.1146, 'eval_samples_per_second': 68.067, 'eval_steps_per_second': 8.669, 'epoch': 6.0}\n",
      "{'loss': 1.0804, 'learning_rate': 2.8125000000000003e-05, 'epoch': 7.0}\n",
      "{'eval_loss': 1.192548155784607, 'eval_runtime': 3.1506, 'eval_samples_per_second': 67.288, 'eval_steps_per_second': 8.57, 'epoch': 7.0}\n",
      "{'loss': 1.0563, 'learning_rate': 2.5e-05, 'epoch': 8.0}\n",
      "{'eval_loss': 1.123807668685913, 'eval_runtime': 3.1717, 'eval_samples_per_second': 66.841, 'eval_steps_per_second': 8.513, 'epoch': 8.0}\n",
      "{'loss': 1.028, 'learning_rate': 2.1875e-05, 'epoch': 9.0}\n",
      "{'eval_loss': 1.1171503067016602, 'eval_runtime': 3.097, 'eval_samples_per_second': 68.454, 'eval_steps_per_second': 8.718, 'epoch': 9.0}\n",
      "{'loss': 1.0075, 'learning_rate': 1.8750000000000002e-05, 'epoch': 10.0}\n",
      "{'eval_loss': 1.0936003923416138, 'eval_runtime': 3.1951, 'eval_samples_per_second': 66.351, 'eval_steps_per_second': 8.45, 'epoch': 10.0}\n",
      "{'loss': 0.9868, 'learning_rate': 1.5625e-05, 'epoch': 11.0}\n",
      "{'eval_loss': 1.0709716081619263, 'eval_runtime': 4.0371, 'eval_samples_per_second': 52.514, 'eval_steps_per_second': 6.688, 'epoch': 11.0}\n",
      "{'loss': 0.9761, 'learning_rate': 1.25e-05, 'epoch': 12.0}\n",
      "{'eval_loss': 1.1148961782455444, 'eval_runtime': 4.1057, 'eval_samples_per_second': 51.635, 'eval_steps_per_second': 6.576, 'epoch': 12.0}\n",
      "{'loss': 0.9529, 'learning_rate': 9.375000000000001e-06, 'epoch': 13.0}\n",
      "{'eval_loss': 1.0510294437408447, 'eval_runtime': 4.3548, 'eval_samples_per_second': 48.682, 'eval_steps_per_second': 6.2, 'epoch': 13.0}\n",
      "{'loss': 0.9476, 'learning_rate': 6.25e-06, 'epoch': 14.0}\n",
      "{'eval_loss': 1.0389258861541748, 'eval_runtime': 4.1642, 'eval_samples_per_second': 50.91, 'eval_steps_per_second': 6.484, 'epoch': 14.0}\n",
      "{'loss': 0.9407, 'learning_rate': 3.125e-06, 'epoch': 15.0}\n",
      "{'eval_loss': 1.0904819965362549, 'eval_runtime': 4.0914, 'eval_samples_per_second': 51.816, 'eval_steps_per_second': 6.599, 'epoch': 15.0}\n",
      "{'loss': 0.9362, 'learning_rate': 0.0, 'epoch': 16.0}\n",
      "{'eval_loss': 1.1053305864334106, 'eval_runtime': 2.6189, 'eval_samples_per_second': 80.951, 'eval_steps_per_second': 10.31, 'epoch': 16.0}\n",
      "{'train_runtime': 17072.0737, 'train_samples_per_second': 8.739, 'train_steps_per_second': 0.274, 'train_loss': 1.1273105895682558, 'epoch': 16.0}\n"
     ]
    },
    {
     "ename": "RepositoryNotFoundError",
     "evalue": "401 Client Error. (Request ID: Root=1-668f5e4f-19496e066f53e938765d82ee;c824f456-e3b4-42bb-b3ef-a85a2dad92fb)\n\nRepository Not Found for url: https://huggingface.co/api/models/KlemPear/bert-base-uncased-git-issues-300/preupload/main.\nPlease make sure you specified the correct `repo_id` and `repo_type`.\nIf you are trying to access a private or gated repo, make sure you are authenticated.\nInvalid username or password.\nNote: Creating a commit assumes that the repo already exists on the Huggingface Hub. Please use `create_repo` if it's not the case.",
     "output_type": "error",
     "traceback": [
      "\u001b[0;31m---------------------------------------------------------------------------\u001b[0m",
      "\u001b[0;31mHTTPError\u001b[0m                                 Traceback (most recent call last)",
      "File \u001b[0;32m~/anaconda3/envs/gpu/lib/python3.9/site-packages/huggingface_hub/utils/_errors.py:270\u001b[0m, in \u001b[0;36mhf_raise_for_status\u001b[0;34m(response, endpoint_name)\u001b[0m\n\u001b[1;32m    269\u001b[0m \u001b[39mtry\u001b[39;00m:\n\u001b[0;32m--> 270\u001b[0m     response\u001b[39m.\u001b[39;49mraise_for_status()\n\u001b[1;32m    271\u001b[0m \u001b[39mexcept\u001b[39;00m HTTPError \u001b[39mas\u001b[39;00m e:\n",
      "File \u001b[0;32m~/anaconda3/envs/gpu/lib/python3.9/site-packages/requests/models.py:1021\u001b[0m, in \u001b[0;36mResponse.raise_for_status\u001b[0;34m(self)\u001b[0m\n\u001b[1;32m   1020\u001b[0m \u001b[39mif\u001b[39;00m http_error_msg:\n\u001b[0;32m-> 1021\u001b[0m     \u001b[39mraise\u001b[39;00m HTTPError(http_error_msg, response\u001b[39m=\u001b[39m\u001b[39mself\u001b[39m)\n",
      "\u001b[0;31mHTTPError\u001b[0m: 401 Client Error: Unauthorized for url: https://huggingface.co/api/models/KlemPear/bert-base-uncased-git-issues-300/preupload/main",
      "\nThe above exception was the direct cause of the following exception:\n",
      "\u001b[0;31mRepositoryNotFoundError\u001b[0m                   Traceback (most recent call last)",
      "Cell \u001b[0;32mIn[74], line 26\u001b[0m\n\u001b[1;32m     15\u001b[0m trainer \u001b[39m=\u001b[39m Trainer(\n\u001b[1;32m     16\u001b[0m     model\u001b[39m=\u001b[39mAutoModelForMaskedLM\u001b[39m.\u001b[39mfrom_pretrained(model_id),\n\u001b[1;32m     17\u001b[0m     tokenizer\u001b[39m=\u001b[39mtokenizer,\n\u001b[0;32m   (...)\u001b[0m\n\u001b[1;32m     21\u001b[0m     eval_dataset\u001b[39m=\u001b[39mds_mlm[\u001b[39m'\u001b[39m\u001b[39mtrain\u001b[39m\u001b[39m'\u001b[39m]\n\u001b[1;32m     22\u001b[0m )\n\u001b[1;32m     24\u001b[0m trainer\u001b[39m.\u001b[39mtrain()\n\u001b[0;32m---> 26\u001b[0m trainer\u001b[39m.\u001b[39;49mpush_to_hub(\u001b[39m'\u001b[39;49m\u001b[39mGit issues BERT domain adaptation complete!\u001b[39;49m\u001b[39m'\u001b[39;49m)\n",
      "File \u001b[0;32m~/anaconda3/envs/gpu/lib/python3.9/site-packages/transformers/trainer.py:3656\u001b[0m, in \u001b[0;36mTrainer.push_to_hub\u001b[0;34m(self, commit_message, blocking, **kwargs)\u001b[0m\n\u001b[1;32m   3653\u001b[0m \u001b[39m# Wait for the current upload to be finished.\u001b[39;00m\n\u001b[1;32m   3654\u001b[0m \u001b[39mself\u001b[39m\u001b[39m.\u001b[39m_finish_current_push()\n\u001b[0;32m-> 3656\u001b[0m \u001b[39mreturn\u001b[39;00m upload_folder(\n\u001b[1;32m   3657\u001b[0m     repo_id\u001b[39m=\u001b[39;49m\u001b[39mself\u001b[39;49m\u001b[39m.\u001b[39;49mhub_model_id,\n\u001b[1;32m   3658\u001b[0m     folder_path\u001b[39m=\u001b[39;49m\u001b[39mself\u001b[39;49m\u001b[39m.\u001b[39;49margs\u001b[39m.\u001b[39;49moutput_dir,\n\u001b[1;32m   3659\u001b[0m     commit_message\u001b[39m=\u001b[39;49mcommit_message,\n\u001b[1;32m   3660\u001b[0m     token\u001b[39m=\u001b[39;49m\u001b[39mself\u001b[39;49m\u001b[39m.\u001b[39;49margs\u001b[39m.\u001b[39;49mhub_token,\n\u001b[1;32m   3661\u001b[0m     run_as_future\u001b[39m=\u001b[39;49m\u001b[39mnot\u001b[39;49;00m blocking,\n\u001b[1;32m   3662\u001b[0m     ignore_patterns\u001b[39m=\u001b[39;49m[\u001b[39m\"\u001b[39;49m\u001b[39m_*\u001b[39;49m\u001b[39m\"\u001b[39;49m, \u001b[39m\"\u001b[39;49m\u001b[39m**/*\u001b[39;49m\u001b[39m\"\u001b[39;49m],\n\u001b[1;32m   3663\u001b[0m )\n",
      "File \u001b[0;32m~/anaconda3/envs/gpu/lib/python3.9/site-packages/huggingface_hub/utils/_validators.py:118\u001b[0m, in \u001b[0;36mvalidate_hf_hub_args.<locals>._inner_fn\u001b[0;34m(*args, **kwargs)\u001b[0m\n\u001b[1;32m    115\u001b[0m \u001b[39mif\u001b[39;00m check_use_auth_token:\n\u001b[1;32m    116\u001b[0m     kwargs \u001b[39m=\u001b[39m smoothly_deprecate_use_auth_token(fn_name\u001b[39m=\u001b[39mfn\u001b[39m.\u001b[39m\u001b[39m__name__\u001b[39m, has_token\u001b[39m=\u001b[39mhas_token, kwargs\u001b[39m=\u001b[39mkwargs)\n\u001b[0;32m--> 118\u001b[0m \u001b[39mreturn\u001b[39;00m fn(\u001b[39m*\u001b[39;49margs, \u001b[39m*\u001b[39;49m\u001b[39m*\u001b[39;49mkwargs)\n",
      "File \u001b[0;32m~/anaconda3/envs/gpu/lib/python3.9/site-packages/huggingface_hub/hf_api.py:1045\u001b[0m, in \u001b[0;36mfuture_compatible.<locals>._inner\u001b[0;34m(self, *args, **kwargs)\u001b[0m\n\u001b[1;32m   1042\u001b[0m     \u001b[39mreturn\u001b[39;00m \u001b[39mself\u001b[39m\u001b[39m.\u001b[39mrun_as_future(fn, \u001b[39mself\u001b[39m, \u001b[39m*\u001b[39margs, \u001b[39m*\u001b[39m\u001b[39m*\u001b[39mkwargs)\n\u001b[1;32m   1044\u001b[0m \u001b[39m# Otherwise, call the function normally\u001b[39;00m\n\u001b[0;32m-> 1045\u001b[0m \u001b[39mreturn\u001b[39;00m fn(\u001b[39mself\u001b[39;49m, \u001b[39m*\u001b[39;49margs, \u001b[39m*\u001b[39;49m\u001b[39m*\u001b[39;49mkwargs)\n",
      "File \u001b[0;32m~/anaconda3/envs/gpu/lib/python3.9/site-packages/huggingface_hub/hf_api.py:4138\u001b[0m, in \u001b[0;36mHfApi.upload_folder\u001b[0;34m(self, repo_id, folder_path, path_in_repo, commit_message, commit_description, token, repo_type, revision, create_pr, parent_commit, allow_patterns, ignore_patterns, delete_patterns, multi_commits, multi_commits_verbose, run_as_future)\u001b[0m\n\u001b[1;32m   4126\u001b[0m     pr_url \u001b[39m=\u001b[39m \u001b[39mself\u001b[39m\u001b[39m.\u001b[39mcreate_commits_on_pr(\n\u001b[1;32m   4127\u001b[0m         repo_id\u001b[39m=\u001b[39mrepo_id,\n\u001b[1;32m   4128\u001b[0m         repo_type\u001b[39m=\u001b[39mrepo_type,\n\u001b[0;32m   (...)\u001b[0m\n\u001b[1;32m   4135\u001b[0m         verbose\u001b[39m=\u001b[39mmulti_commits_verbose,\n\u001b[1;32m   4136\u001b[0m     )\n\u001b[1;32m   4137\u001b[0m \u001b[39melse\u001b[39;00m:\n\u001b[0;32m-> 4138\u001b[0m     commit_info \u001b[39m=\u001b[39m \u001b[39mself\u001b[39;49m\u001b[39m.\u001b[39;49mcreate_commit(\n\u001b[1;32m   4139\u001b[0m         repo_type\u001b[39m=\u001b[39;49mrepo_type,\n\u001b[1;32m   4140\u001b[0m         repo_id\u001b[39m=\u001b[39;49mrepo_id,\n\u001b[1;32m   4141\u001b[0m         operations\u001b[39m=\u001b[39;49mcommit_operations,\n\u001b[1;32m   4142\u001b[0m         commit_message\u001b[39m=\u001b[39;49mcommit_message,\n\u001b[1;32m   4143\u001b[0m         commit_description\u001b[39m=\u001b[39;49mcommit_description,\n\u001b[1;32m   4144\u001b[0m         token\u001b[39m=\u001b[39;49mtoken,\n\u001b[1;32m   4145\u001b[0m         revision\u001b[39m=\u001b[39;49mrevision,\n\u001b[1;32m   4146\u001b[0m         create_pr\u001b[39m=\u001b[39;49mcreate_pr,\n\u001b[1;32m   4147\u001b[0m         parent_commit\u001b[39m=\u001b[39;49mparent_commit,\n\u001b[1;32m   4148\u001b[0m     )\n\u001b[1;32m   4149\u001b[0m     pr_url \u001b[39m=\u001b[39m commit_info\u001b[39m.\u001b[39mpr_url\n\u001b[1;32m   4151\u001b[0m \u001b[39mif\u001b[39;00m create_pr \u001b[39mand\u001b[39;00m pr_url \u001b[39mis\u001b[39;00m \u001b[39mnot\u001b[39;00m \u001b[39mNone\u001b[39;00m:\n",
      "File \u001b[0;32m~/anaconda3/envs/gpu/lib/python3.9/site-packages/huggingface_hub/utils/_validators.py:118\u001b[0m, in \u001b[0;36mvalidate_hf_hub_args.<locals>._inner_fn\u001b[0;34m(*args, **kwargs)\u001b[0m\n\u001b[1;32m    115\u001b[0m \u001b[39mif\u001b[39;00m check_use_auth_token:\n\u001b[1;32m    116\u001b[0m     kwargs \u001b[39m=\u001b[39m smoothly_deprecate_use_auth_token(fn_name\u001b[39m=\u001b[39mfn\u001b[39m.\u001b[39m\u001b[39m__name__\u001b[39m, has_token\u001b[39m=\u001b[39mhas_token, kwargs\u001b[39m=\u001b[39mkwargs)\n\u001b[0;32m--> 118\u001b[0m \u001b[39mreturn\u001b[39;00m fn(\u001b[39m*\u001b[39;49margs, \u001b[39m*\u001b[39;49m\u001b[39m*\u001b[39;49mkwargs)\n",
      "File \u001b[0;32m~/anaconda3/envs/gpu/lib/python3.9/site-packages/huggingface_hub/hf_api.py:1045\u001b[0m, in \u001b[0;36mfuture_compatible.<locals>._inner\u001b[0;34m(self, *args, **kwargs)\u001b[0m\n\u001b[1;32m   1042\u001b[0m     \u001b[39mreturn\u001b[39;00m \u001b[39mself\u001b[39m\u001b[39m.\u001b[39mrun_as_future(fn, \u001b[39mself\u001b[39m, \u001b[39m*\u001b[39margs, \u001b[39m*\u001b[39m\u001b[39m*\u001b[39mkwargs)\n\u001b[1;32m   1044\u001b[0m \u001b[39m# Otherwise, call the function normally\u001b[39;00m\n\u001b[0;32m-> 1045\u001b[0m \u001b[39mreturn\u001b[39;00m fn(\u001b[39mself\u001b[39;49m, \u001b[39m*\u001b[39;49margs, \u001b[39m*\u001b[39;49m\u001b[39m*\u001b[39;49mkwargs)\n",
      "File \u001b[0;32m~/anaconda3/envs/gpu/lib/python3.9/site-packages/huggingface_hub/hf_api.py:3195\u001b[0m, in \u001b[0;36mHfApi.create_commit\u001b[0;34m(self, repo_id, operations, commit_message, commit_description, token, repo_type, revision, create_pr, num_threads, parent_commit, run_as_future)\u001b[0m\n\u001b[1;32m   3192\u001b[0m \u001b[39m# If updating twice the same file or update then delete a file in a single commit\u001b[39;00m\n\u001b[1;32m   3193\u001b[0m _warn_on_overwriting_operations(operations)\n\u001b[0;32m-> 3195\u001b[0m \u001b[39mself\u001b[39;49m\u001b[39m.\u001b[39;49mpreupload_lfs_files(\n\u001b[1;32m   3196\u001b[0m     repo_id\u001b[39m=\u001b[39;49mrepo_id,\n\u001b[1;32m   3197\u001b[0m     additions\u001b[39m=\u001b[39;49madditions,\n\u001b[1;32m   3198\u001b[0m     token\u001b[39m=\u001b[39;49mtoken,\n\u001b[1;32m   3199\u001b[0m     repo_type\u001b[39m=\u001b[39;49mrepo_type,\n\u001b[1;32m   3200\u001b[0m     revision\u001b[39m=\u001b[39;49mrevision,\n\u001b[1;32m   3201\u001b[0m     create_pr\u001b[39m=\u001b[39;49mcreate_pr,\n\u001b[1;32m   3202\u001b[0m     num_threads\u001b[39m=\u001b[39;49mnum_threads,\n\u001b[1;32m   3203\u001b[0m     free_memory\u001b[39m=\u001b[39;49m\u001b[39mFalse\u001b[39;49;00m,  \u001b[39m# do not remove `CommitOperationAdd.path_or_fileobj` on LFS files for \"normal\" users\u001b[39;49;00m\n\u001b[1;32m   3204\u001b[0m )\n\u001b[1;32m   3205\u001b[0m files_to_copy \u001b[39m=\u001b[39m _fetch_lfs_files_to_copy(\n\u001b[1;32m   3206\u001b[0m     copies\u001b[39m=\u001b[39mcopies,\n\u001b[1;32m   3207\u001b[0m     repo_type\u001b[39m=\u001b[39mrepo_type,\n\u001b[0;32m   (...)\u001b[0m\n\u001b[1;32m   3211\u001b[0m     endpoint\u001b[39m=\u001b[39m\u001b[39mself\u001b[39m\u001b[39m.\u001b[39mendpoint,\n\u001b[1;32m   3212\u001b[0m )\n\u001b[1;32m   3213\u001b[0m commit_payload \u001b[39m=\u001b[39m _prepare_commit_payload(\n\u001b[1;32m   3214\u001b[0m     operations\u001b[39m=\u001b[39moperations,\n\u001b[1;32m   3215\u001b[0m     files_to_copy\u001b[39m=\u001b[39mfiles_to_copy,\n\u001b[0;32m   (...)\u001b[0m\n\u001b[1;32m   3218\u001b[0m     parent_commit\u001b[39m=\u001b[39mparent_commit,\n\u001b[1;32m   3219\u001b[0m )\n",
      "File \u001b[0;32m~/anaconda3/envs/gpu/lib/python3.9/site-packages/huggingface_hub/hf_api.py:3648\u001b[0m, in \u001b[0;36mHfApi.preupload_lfs_files\u001b[0;34m(self, repo_id, additions, token, repo_type, revision, create_pr, num_threads, free_memory)\u001b[0m\n\u001b[1;32m   3646\u001b[0m \u001b[39m# Check which new files are LFS\u001b[39;00m\n\u001b[1;32m   3647\u001b[0m \u001b[39mtry\u001b[39;00m:\n\u001b[0;32m-> 3648\u001b[0m     _fetch_upload_modes(\n\u001b[1;32m   3649\u001b[0m         additions\u001b[39m=\u001b[39;49mnew_additions,\n\u001b[1;32m   3650\u001b[0m         repo_type\u001b[39m=\u001b[39;49mrepo_type,\n\u001b[1;32m   3651\u001b[0m         repo_id\u001b[39m=\u001b[39;49mrepo_id,\n\u001b[1;32m   3652\u001b[0m         token\u001b[39m=\u001b[39;49mtoken \u001b[39mor\u001b[39;49;00m \u001b[39mself\u001b[39;49m\u001b[39m.\u001b[39;49mtoken,\n\u001b[1;32m   3653\u001b[0m         revision\u001b[39m=\u001b[39;49mrevision,\n\u001b[1;32m   3654\u001b[0m         endpoint\u001b[39m=\u001b[39;49m\u001b[39mself\u001b[39;49m\u001b[39m.\u001b[39;49mendpoint,\n\u001b[1;32m   3655\u001b[0m         create_pr\u001b[39m=\u001b[39;49mcreate_pr \u001b[39mor\u001b[39;49;00m \u001b[39mFalse\u001b[39;49;00m,\n\u001b[1;32m   3656\u001b[0m     )\n\u001b[1;32m   3657\u001b[0m \u001b[39mexcept\u001b[39;00m RepositoryNotFoundError \u001b[39mas\u001b[39;00m e:\n\u001b[1;32m   3658\u001b[0m     e\u001b[39m.\u001b[39mappend_to_message(_CREATE_COMMIT_NO_REPO_ERROR_MESSAGE)\n",
      "File \u001b[0;32m~/anaconda3/envs/gpu/lib/python3.9/site-packages/huggingface_hub/utils/_validators.py:118\u001b[0m, in \u001b[0;36mvalidate_hf_hub_args.<locals>._inner_fn\u001b[0;34m(*args, **kwargs)\u001b[0m\n\u001b[1;32m    115\u001b[0m \u001b[39mif\u001b[39;00m check_use_auth_token:\n\u001b[1;32m    116\u001b[0m     kwargs \u001b[39m=\u001b[39m smoothly_deprecate_use_auth_token(fn_name\u001b[39m=\u001b[39mfn\u001b[39m.\u001b[39m\u001b[39m__name__\u001b[39m, has_token\u001b[39m=\u001b[39mhas_token, kwargs\u001b[39m=\u001b[39mkwargs)\n\u001b[0;32m--> 118\u001b[0m \u001b[39mreturn\u001b[39;00m fn(\u001b[39m*\u001b[39;49margs, \u001b[39m*\u001b[39;49m\u001b[39m*\u001b[39;49mkwargs)\n",
      "File \u001b[0;32m~/anaconda3/envs/gpu/lib/python3.9/site-packages/huggingface_hub/_commit_api.py:488\u001b[0m, in \u001b[0;36m_fetch_upload_modes\u001b[0;34m(additions, repo_type, repo_id, token, revision, endpoint, create_pr)\u001b[0m\n\u001b[1;32m    470\u001b[0m payload \u001b[39m=\u001b[39m {\n\u001b[1;32m    471\u001b[0m     \u001b[39m\"\u001b[39m\u001b[39mfiles\u001b[39m\u001b[39m\"\u001b[39m: [\n\u001b[1;32m    472\u001b[0m         {\n\u001b[0;32m   (...)\u001b[0m\n\u001b[1;32m    479\u001b[0m     ]\n\u001b[1;32m    480\u001b[0m }\n\u001b[1;32m    482\u001b[0m resp \u001b[39m=\u001b[39m get_session()\u001b[39m.\u001b[39mpost(\n\u001b[1;32m    483\u001b[0m     \u001b[39mf\u001b[39m\u001b[39m\"\u001b[39m\u001b[39m{\u001b[39;00mendpoint\u001b[39m}\u001b[39;00m\u001b[39m/api/\u001b[39m\u001b[39m{\u001b[39;00mrepo_type\u001b[39m}\u001b[39;00m\u001b[39ms/\u001b[39m\u001b[39m{\u001b[39;00mrepo_id\u001b[39m}\u001b[39;00m\u001b[39m/preupload/\u001b[39m\u001b[39m{\u001b[39;00mrevision\u001b[39m}\u001b[39;00m\u001b[39m\"\u001b[39m,\n\u001b[1;32m    484\u001b[0m     json\u001b[39m=\u001b[39mpayload,\n\u001b[1;32m    485\u001b[0m     headers\u001b[39m=\u001b[39mheaders,\n\u001b[1;32m    486\u001b[0m     params\u001b[39m=\u001b[39m{\u001b[39m\"\u001b[39m\u001b[39mcreate_pr\u001b[39m\u001b[39m\"\u001b[39m: \u001b[39m\"\u001b[39m\u001b[39m1\u001b[39m\u001b[39m\"\u001b[39m} \u001b[39mif\u001b[39;00m create_pr \u001b[39melse\u001b[39;00m \u001b[39mNone\u001b[39;00m,\n\u001b[1;32m    487\u001b[0m )\n\u001b[0;32m--> 488\u001b[0m hf_raise_for_status(resp)\n\u001b[1;32m    489\u001b[0m preupload_info \u001b[39m=\u001b[39m _validate_preupload_info(resp\u001b[39m.\u001b[39mjson())\n\u001b[1;32m    490\u001b[0m upload_modes\u001b[39m.\u001b[39mupdate(\u001b[39m*\u001b[39m\u001b[39m*\u001b[39m{file[\u001b[39m\"\u001b[39m\u001b[39mpath\u001b[39m\u001b[39m\"\u001b[39m]: file[\u001b[39m\"\u001b[39m\u001b[39muploadMode\u001b[39m\u001b[39m\"\u001b[39m] \u001b[39mfor\u001b[39;00m file \u001b[39min\u001b[39;00m preupload_info[\u001b[39m\"\u001b[39m\u001b[39mfiles\u001b[39m\u001b[39m\"\u001b[39m]})\n",
      "File \u001b[0;32m~/anaconda3/envs/gpu/lib/python3.9/site-packages/huggingface_hub/utils/_errors.py:320\u001b[0m, in \u001b[0;36mhf_raise_for_status\u001b[0;34m(response, endpoint_name)\u001b[0m\n\u001b[1;32m    306\u001b[0m \u001b[39melif\u001b[39;00m error_code \u001b[39m==\u001b[39m \u001b[39m\"\u001b[39m\u001b[39mRepoNotFound\u001b[39m\u001b[39m\"\u001b[39m \u001b[39mor\u001b[39;00m response\u001b[39m.\u001b[39mstatus_code \u001b[39m==\u001b[39m \u001b[39m401\u001b[39m:\n\u001b[1;32m    307\u001b[0m     \u001b[39m# 401 is misleading as it is returned for:\u001b[39;00m\n\u001b[1;32m    308\u001b[0m     \u001b[39m#    - private and gated repos if user is not authenticated\u001b[39;00m\n\u001b[1;32m    309\u001b[0m     \u001b[39m#    - missing repos\u001b[39;00m\n\u001b[1;32m    310\u001b[0m     \u001b[39m# => for now, we process them as `RepoNotFound` anyway.\u001b[39;00m\n\u001b[1;32m    311\u001b[0m     \u001b[39m# See https://gist.github.com/Wauplin/46c27ad266b15998ce56a6603796f0b9\u001b[39;00m\n\u001b[1;32m    312\u001b[0m     message \u001b[39m=\u001b[39m (\n\u001b[1;32m    313\u001b[0m         \u001b[39mf\u001b[39m\u001b[39m\"\u001b[39m\u001b[39m{\u001b[39;00mresponse\u001b[39m.\u001b[39mstatus_code\u001b[39m}\u001b[39;00m\u001b[39m Client Error.\u001b[39m\u001b[39m\"\u001b[39m\n\u001b[1;32m    314\u001b[0m         \u001b[39m+\u001b[39m \u001b[39m\"\u001b[39m\u001b[39m\\n\u001b[39;00m\u001b[39m\\n\u001b[39;00m\u001b[39m\"\u001b[39m\n\u001b[0;32m   (...)\u001b[0m\n\u001b[1;32m    318\u001b[0m         \u001b[39m\"\u001b[39m\u001b[39m make sure you are authenticated.\u001b[39m\u001b[39m\"\u001b[39m\n\u001b[1;32m    319\u001b[0m     )\n\u001b[0;32m--> 320\u001b[0m     \u001b[39mraise\u001b[39;00m RepositoryNotFoundError(message, response) \u001b[39mfrom\u001b[39;00m \u001b[39me\u001b[39;00m\n\u001b[1;32m    322\u001b[0m \u001b[39melif\u001b[39;00m response\u001b[39m.\u001b[39mstatus_code \u001b[39m==\u001b[39m \u001b[39m400\u001b[39m:\n\u001b[1;32m    323\u001b[0m     message \u001b[39m=\u001b[39m (\n\u001b[1;32m    324\u001b[0m         \u001b[39mf\u001b[39m\u001b[39m\"\u001b[39m\u001b[39m\\n\u001b[39;00m\u001b[39m\\n\u001b[39;00m\u001b[39mBad request for \u001b[39m\u001b[39m{\u001b[39;00mendpoint_name\u001b[39m}\u001b[39;00m\u001b[39m endpoint:\u001b[39m\u001b[39m\"\u001b[39m \u001b[39mif\u001b[39;00m endpoint_name \u001b[39mis\u001b[39;00m \u001b[39mnot\u001b[39;00m \u001b[39mNone\u001b[39;00m \u001b[39melse\u001b[39;00m \u001b[39m\"\u001b[39m\u001b[39m\\n\u001b[39;00m\u001b[39m\\n\u001b[39;00m\u001b[39mBad request:\u001b[39m\u001b[39m\"\u001b[39m\n\u001b[1;32m    325\u001b[0m     )\n",
      "\u001b[0;31mRepositoryNotFoundError\u001b[0m: 401 Client Error. (Request ID: Root=1-668f5e4f-19496e066f53e938765d82ee;c824f456-e3b4-42bb-b3ef-a85a2dad92fb)\n\nRepository Not Found for url: https://huggingface.co/api/models/KlemPear/bert-base-uncased-git-issues-300/preupload/main.\nPlease make sure you specified the correct `repo_id` and `repo_type`.\nIf you are trying to access a private or gated repo, make sure you are authenticated.\nInvalid username or password.\nNote: Creating a commit assumes that the repo already exists on the Huggingface Hub. Please use `create_repo` if it's not the case."
     ]
    }
   ],
   "source": [
    "from transformers import AutoModelForMaskedLM\n",
    "\n",
    "training_args = TrainingArguments(\n",
    "    output_dir=f'{model_id}-git-issues-300',\n",
    "    per_device_train_batch_size=32,\n",
    "    logging_strategy='epoch',\n",
    "    evaluation_strategy='epoch',\n",
    "    save_strategy='no',\n",
    "    num_train_epochs=16,\n",
    "    push_to_hub=True,\n",
    "    log_level='error',\n",
    "    report_to='none'\n",
    ")\n",
    "\n",
    "trainer = Trainer(\n",
    "    model=AutoModelForMaskedLM.from_pretrained(model_id),\n",
    "    tokenizer=tokenizer,\n",
    "    args=training_args,\n",
    "    data_collator=data_collator,\n",
    "    train_dataset=ds_mlm['unsup'],\n",
    "    eval_dataset=ds_mlm['train']\n",
    ")\n",
    "\n",
    "trainer.train()\n",
    "\n"
   ]
  },
  {
   "cell_type": "code",
   "execution_count": 78,
   "metadata": {},
   "outputs": [
    {
     "data": {
      "application/vnd.jupyter.widget-view+json": {
       "model_id": "203fd4c05fe64a7c948ed786b7fdef00",
       "version_major": 2,
       "version_minor": 0
      },
      "text/plain": [
       "training_args.bin:   0%|          | 0.00/4.47k [00:00<?, ?B/s]"
      ]
     },
     "metadata": {},
     "output_type": "display_data"
    },
    {
     "data": {
      "application/vnd.jupyter.widget-view+json": {
       "model_id": "004bee64638b422ea245415befed85c8",
       "version_major": 2,
       "version_minor": 0
      },
      "text/plain": [
       "pytorch_model.bin:   0%|          | 0.00/438M [00:00<?, ?B/s]"
      ]
     },
     "metadata": {},
     "output_type": "display_data"
    },
    {
     "data": {
      "application/vnd.jupyter.widget-view+json": {
       "model_id": "36448ffca3ab46aea449b2da9e284dbb",
       "version_major": 2,
       "version_minor": 0
      },
      "text/plain": [
       "Upload 2 LFS files:   0%|          | 0/2 [00:00<?, ?it/s]"
      ]
     },
     "metadata": {},
     "output_type": "display_data"
    },
    {
     "data": {
      "text/plain": [
       "'https://huggingface.co/KlemPear/bert-base-uncased-git-issues-300/tree/main/'"
      ]
     },
     "execution_count": 78,
     "metadata": {},
     "output_type": "execute_result"
    }
   ],
   "source": [
    "\n",
    "trainer.push_to_hub('Git issues BERT domain adaptation complete!')"
   ]
  },
  {
   "cell_type": "code",
   "execution_count": 75,
   "metadata": {},
   "outputs": [
    {
     "data": {
      "image/png": "[encoded data removed]",
      "text/plain": [
       "<Figure size 640x480 with 1 Axes>"
      ]
     },
     "metadata": {},
     "output_type": "display_data"
    }
   ],
   "source": [
    "df_log = pd.DataFrame(trainer.state.log_history)\n",
    "\n",
    "(df_log.dropna(subset=['eval_loss']).reset_index()['eval_loss'].plot(label='Validation'))\n",
    "(df_log.dropna(subset=['loss']).reset_index()['loss'].plot(label='Train'))\n",
    "\n",
    "plt.xlabel('Epochs')\n",
    "plt.ylabel('Loss')\n",
    "plt.legend(loc='upper right')\n",
    "plt.show()"
   ]
  },
  {
   "attachments": {},
   "cell_type": "markdown",
   "metadata": {},
   "source": [
    "#### Training the classifier after domain adaptation"
   ]
  },
  {
   "cell_type": "code",
   "execution_count": null,
   "metadata": {},
   "outputs": [],
   "source": [
    "model_clf = f'{model_id}-git-issues-300'\n",
    "config = AutoConfig.from_pretrained(model_clf)\n",
    "config.num_labels = len(all_labels)\n",
    "config.problem_type = 'multi_label_classification'\n",
    "\n",
    "for train_slice in train_slices:\n",
    "    model = AutoModelForSequenceClassification.from_pretrained(model_clf, config=config)\n",
    "\n",
    "    trainer = Trainer(\n",
    "        model=model,\n",
    "        tokenizer=tokenizer,\n",
    "        args=training_args_fine_tune,\n",
    "        compute_metrics=compute_metrics,\n",
    "        train_dataset=ds_enc['train'].select(train_slice),\n",
    "        eval_dataset=ds_enc['valid'],\n",
    "    )\n",
    "\n",
    "    trainer.train()\n",
    "    pred = trainer.predict(ds_enc['test'])\n",
    "    metrics = compute_metrics(pred)\n",
    "\n",
    "    macro_scores['Fine-Tune with DA'].append(metrics['macro f1'])\n",
    "    micro_scores['Fine-Tune with DA'].append(metrics['micro f1'])"
   ]
  },
  {
   "cell_type": "code",
   "execution_count": 81,
   "metadata": {},
   "outputs": [
    {
     "data": {
      "image/png": "[encoded data removed]",
      "text/plain": [
       "<Figure size 1000x400 with 2 Axes>"
      ]
     },
     "metadata": {},
     "output_type": "display_data"
    }
   ],
   "source": [
    "plot_metrics(micro_scores, macro_scores, train_samples, 'Fine-Tune with DA')"
   ]
  },
  {
   "cell_type": "code",
   "execution_count": 84,
   "metadata": {},
   "outputs": [],
   "source": [
    "trainer.save_model('bert-base-uncased-git-issues-300-classifier')\n"
   ]
  },
  {
   "cell_type": "code",
   "execution_count": null,
   "metadata": {},
   "outputs": [],
   "source": [
    "trainer.push_to_hub()"
   ]
  },
  {
   "cell_type": "code",
   "execution_count": 157,
   "metadata": {},
   "outputs": [
    {
     "data": {
      "application/vnd.jupyter.widget-view+json": {
       "model_id": "96bddb86aaff4a63b26bb66887735592",
       "version_major": 2,
       "version_minor": 0
      },
      "text/plain": [
       "config.json:   0%|          | 0.00/1.17k [00:00<?, ?B/s]"
      ]
     },
     "metadata": {},
     "output_type": "display_data"
    }
   ],
   "source": [
    "from transformers import pipeline\n",
    "\n",
    "pipe = pipeline(model='KlemPear/bert-base-uncased-git-issues-300-classifier', device='mps')"
   ]
  },
  {
   "cell_type": "code",
   "execution_count": 173,
   "metadata": {},
   "outputs": [],
   "source": [
    "i = 18\n",
    "output = pipe(ds['test']['text'][i])\n",
    "label = ds['test']['labels'][i]\n"
   ]
  },
  {
   "cell_type": "code",
   "execution_count": 174,
   "metadata": {},
   "outputs": [
    {
     "data": {
      "text/plain": [
       "'new model'"
      ]
     },
     "execution_count": 174,
     "metadata": {},
     "output_type": "execute_result"
    }
   ],
   "source": [
    "output[0]['label']"
   ]
  },
  {
   "cell_type": "code",
   "execution_count": 175,
   "metadata": {},
   "outputs": [
    {
     "data": {
      "text/plain": [
       "'new model'"
      ]
     },
     "execution_count": 175,
     "metadata": {},
     "output_type": "execute_result"
    }
   ],
   "source": [
    "label[0]"
   ]
  },
  {
   "cell_type": "code",
   "execution_count": null,
   "metadata": {},
   "outputs": [],
   "source": []
  }
 ],
 "metadata": {
  "kernelspec": {
   "display_name": "gpu",
   "language": "python",
   "name": "python3"
  },
  "language_info": {
   "codemirror_mode": {
    "name": "ipython",
    "version": 3
   },
   "file_extension": ".py",
   "mimetype": "text/x-python",
   "name": "python",
   "nbconvert_exporter": "python",
   "pygments_lexer": "ipython3",
   "version": "3.9.7"
  },
  "orig_nbformat": 4
 },
 "nbformat": 4,
 "nbformat_minor": 2
}
