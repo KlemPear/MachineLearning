{
 "cells": [
  {
   "attachments": {},
   "cell_type": "markdown",
   "metadata": {},
   "source": [
    "# Text Classifier with CNN"
   ]
  },
  {
   "cell_type": "code",
   "execution_count": 1,
   "metadata": {},
   "outputs": [],
   "source": [
    "import numpy as np\n",
    "import pandas as pd\n",
    "import tensorflow as tf\n",
    "import matplotlib.pyplot as plt\n",
    "from sklearn.model_selection import train_test_split\n",
    "\n",
    "from tensorflow.keras.preprocessing.text import Tokenizer\n",
    "from tensorflow.keras.preprocessing.sequence import pad_sequences\n",
    "from tensorflow.keras.layers import Dense, Input, GlobalMaxPooling1D\n",
    "from tensorflow.keras.layers import Conv1D, MaxPooling1D, Embedding\n",
    "from tensorflow.keras.models import Model\n",
    "from tensorflow.keras.losses import SparseCategoricalCrossentropy"
   ]
  },
  {
   "cell_type": "code",
   "execution_count": 2,
   "metadata": {},
   "outputs": [],
   "source": [
    "df = pd.read_csv('../datasets/bbc/bbc_text_cls.csv')"
   ]
  },
  {
   "cell_type": "code",
   "execution_count": 3,
   "metadata": {},
   "outputs": [],
   "source": [
    "# let's modify the data set to add a column with a different number for each label\n",
    "df['targets'] = df['labels'].astype(\"category\").cat.codes"
   ]
  },
  {
   "cell_type": "code",
   "execution_count": 4,
   "metadata": {},
   "outputs": [
    {
     "data": {
      "text/plain": [
       "5"
      ]
     },
     "execution_count": 4,
     "metadata": {},
     "output_type": "execute_result"
    }
   ],
   "source": [
    "# number of classes\n",
    "K = df['targets'].max() + 1\n",
    "K"
   ]
  },
  {
   "cell_type": "code",
   "execution_count": 5,
   "metadata": {},
   "outputs": [
    {
     "data": {
      "text/html": [
       "<div>\n",
       "<style scoped>\n",
       "    .dataframe tbody tr th:only-of-type {\n",
       "        vertical-align: middle;\n",
       "    }\n",
       "\n",
       "    .dataframe tbody tr th {\n",
       "        vertical-align: top;\n",
       "    }\n",
       "\n",
       "    .dataframe thead th {\n",
       "        text-align: right;\n",
       "    }\n",
       "</style>\n",
       "<table border=\"1\" class=\"dataframe\">\n",
       "  <thead>\n",
       "    <tr style=\"text-align: right;\">\n",
       "      <th></th>\n",
       "      <th>text</th>\n",
       "      <th>labels</th>\n",
       "      <th>targets</th>\n",
       "    </tr>\n",
       "  </thead>\n",
       "  <tbody>\n",
       "    <tr>\n",
       "      <th>0</th>\n",
       "      <td>Ad sales boost Time Warner profit\\n\\nQuarterly...</td>\n",
       "      <td>business</td>\n",
       "      <td>0</td>\n",
       "    </tr>\n",
       "    <tr>\n",
       "      <th>1</th>\n",
       "      <td>Dollar gains on Greenspan speech\\n\\nThe dollar...</td>\n",
       "      <td>business</td>\n",
       "      <td>0</td>\n",
       "    </tr>\n",
       "    <tr>\n",
       "      <th>2</th>\n",
       "      <td>Yukos unit buyer faces loan claim\\n\\nThe owner...</td>\n",
       "      <td>business</td>\n",
       "      <td>0</td>\n",
       "    </tr>\n",
       "    <tr>\n",
       "      <th>3</th>\n",
       "      <td>High fuel prices hit BA's profits\\n\\nBritish A...</td>\n",
       "      <td>business</td>\n",
       "      <td>0</td>\n",
       "    </tr>\n",
       "    <tr>\n",
       "      <th>4</th>\n",
       "      <td>Pernod takeover talk lifts Domecq\\n\\nShares in...</td>\n",
       "      <td>business</td>\n",
       "      <td>0</td>\n",
       "    </tr>\n",
       "  </tbody>\n",
       "</table>\n",
       "</div>"
      ],
      "text/plain": [
       "                                                text    labels  targets\n",
       "0  Ad sales boost Time Warner profit\\n\\nQuarterly...  business        0\n",
       "1  Dollar gains on Greenspan speech\\n\\nThe dollar...  business        0\n",
       "2  Yukos unit buyer faces loan claim\\n\\nThe owner...  business        0\n",
       "3  High fuel prices hit BA's profits\\n\\nBritish A...  business        0\n",
       "4  Pernod takeover talk lifts Domecq\\n\\nShares in...  business        0"
      ]
     },
     "execution_count": 5,
     "metadata": {},
     "output_type": "execute_result"
    }
   ],
   "source": [
    "df.head()"
   ]
  },
  {
   "attachments": {},
   "cell_type": "markdown",
   "metadata": {},
   "source": [
    "## Build Train and Test sets"
   ]
  },
  {
   "cell_type": "code",
   "execution_count": 6,
   "metadata": {},
   "outputs": [],
   "source": [
    "df_train, df_test = train_test_split(df, test_size=0.3)"
   ]
  },
  {
   "cell_type": "code",
   "execution_count": 7,
   "metadata": {},
   "outputs": [],
   "source": [
    "# Convert sentences to sequences\n",
    "MAX_VOCAB_SIZE = 3500\n",
    "tokenizer = Tokenizer(num_words=MAX_VOCAB_SIZE)\n",
    "tokenizer.fit_on_texts(df_train['text'])\n",
    "sequences_train = tokenizer.texts_to_sequences(df_train['text'])\n",
    "sequences_test = tokenizer.texts_to_sequences(df_test['text'])"
   ]
  },
  {
   "cell_type": "code",
   "execution_count": 8,
   "metadata": {},
   "outputs": [
    {
     "name": "stdout",
     "output_type": "stream",
     "text": [
      "Found 27980 unique tokens.\n"
     ]
    }
   ],
   "source": [
    "# get word -> integer mapping\n",
    "word2idx = tokenizer.word_index\n",
    "V = len(word2idx)\n",
    "print('Found %s unique tokens.' % V)"
   ]
  },
  {
   "cell_type": "code",
   "execution_count": 9,
   "metadata": {},
   "outputs": [
    {
     "name": "stdout",
     "output_type": "stream",
     "text": [
      "Shape of data train tensor: (1557, 3797)\n"
     ]
    }
   ],
   "source": [
    "# pad sequences so that we get a N x T matrix\n",
    "data_train = pad_sequences(sequences_train)\n",
    "print('Shape of data train tensor:', data_train.shape)\n",
    "\n",
    "# get sequence length, i.e length of the longest article.\n",
    "T = data_train.shape[1]"
   ]
  },
  {
   "cell_type": "code",
   "execution_count": 10,
   "metadata": {},
   "outputs": [
    {
     "name": "stdout",
     "output_type": "stream",
     "text": [
      "Shape of data test tensor: (668, 3797)\n"
     ]
    }
   ],
   "source": [
    "# Pad the test set with the lenght of the longest article in the training set.\n",
    "data_test = pad_sequences(sequences_test, maxlen=T)\n",
    "print('Shape of data test tensor:', data_test.shape)"
   ]
  },
  {
   "attachments": {},
   "cell_type": "markdown",
   "metadata": {},
   "source": [
    "## Create the model"
   ]
  },
  {
   "cell_type": "code",
   "execution_count": 36,
   "metadata": {},
   "outputs": [
    {
     "name": "stdout",
     "output_type": "stream",
     "text": [
      "Model: \"sequential_7\"\n",
      "_________________________________________________________________\n",
      " Layer (type)                Output Shape              Param #   \n",
      "=================================================================\n",
      " embedding_7 (Embedding)     (None, 3797, 75)          2098575   \n",
      "                                                                 \n",
      " conv1d_11 (Conv1D)          (None, 3795, 64)          14464     \n",
      "                                                                 \n",
      " global_max_pooling1d_7 (Gl  (None, 64)                0         \n",
      " obalMaxPooling1D)                                               \n",
      "                                                                 \n",
      " dense_8 (Dense)             (None, 5)                 325       \n",
      "                                                                 \n",
      "=================================================================\n",
      "Total params: 2113364 (8.06 MB)\n",
      "Trainable params: 2113364 (8.06 MB)\n",
      "Non-trainable params: 0 (0.00 Byte)\n",
      "_________________________________________________________________\n"
     ]
    }
   ],
   "source": [
    "# Hyperparams\n",
    "# Ebedding dimensionality\n",
    "D = 75\n",
    "nbr_epochs = 15\n",
    "\n",
    "# Note: we actually want to the size of the embedding to (V + 1) x D,\n",
    "# because the first index starts from 1 and not 0.\n",
    "# Thus, if the final index of the embedding matrix is V,\n",
    "# then it actually must have size V + 1.\n",
    "\n",
    "model = tf.keras.Sequential([\n",
    "    Input(shape=(T,)),\n",
    "    Embedding(V + 1, D),\n",
    "    Conv1D(64, 3, activation='relu'),\n",
    "    # MaxPooling1D(3),\n",
    "    # Conv1D(16, 3, activation='relu'),\n",
    "    # MaxPooling1D(3),\n",
    "    # Conv1D(128, 3, activation='relu'),\n",
    "    # MaxPooling1D(3),\n",
    "    GlobalMaxPooling1D(),\n",
    "    #Dense(32, activation='relu'),\n",
    "    Dense(K)\n",
    "])\n",
    "\n",
    "model.summary()"
   ]
  },
  {
   "cell_type": "code",
   "execution_count": 37,
   "metadata": {},
   "outputs": [
    {
     "name": "stdout",
     "output_type": "stream",
     "text": [
      "Training model...\n",
      "Epoch 1/15\n",
      "49/49 [==============================] - 7s 133ms/step - loss: 1.5504 - accuracy: 0.5401 - val_loss: 1.4326 - val_accuracy: 0.7874\n",
      "Epoch 2/15\n",
      "49/49 [==============================] - 4s 87ms/step - loss: 1.1934 - accuracy: 0.8677 - val_loss: 0.9311 - val_accuracy: 0.8772\n",
      "Epoch 3/15\n",
      "49/49 [==============================] - 4s 90ms/step - loss: 0.6016 - accuracy: 0.9184 - val_loss: 0.4480 - val_accuracy: 0.9087\n",
      "Epoch 4/15\n",
      "49/49 [==============================] - 4s 83ms/step - loss: 0.2753 - accuracy: 0.9505 - val_loss: 0.2861 - val_accuracy: 0.9341\n",
      "Epoch 5/15\n",
      "49/49 [==============================] - 4s 80ms/step - loss: 0.1548 - accuracy: 0.9782 - val_loss: 0.2184 - val_accuracy: 0.9431\n",
      "Epoch 6/15\n",
      "49/49 [==============================] - 4s 70ms/step - loss: 0.0968 - accuracy: 0.9859 - val_loss: 0.1858 - val_accuracy: 0.9476\n",
      "Epoch 7/15\n",
      "49/49 [==============================] - 4s 72ms/step - loss: 0.0636 - accuracy: 0.9917 - val_loss: 0.1614 - val_accuracy: 0.9521\n",
      "Epoch 8/15\n",
      "49/49 [==============================] - 3s 69ms/step - loss: 0.0429 - accuracy: 0.9968 - val_loss: 0.1481 - val_accuracy: 0.9566\n",
      "Epoch 9/15\n",
      "49/49 [==============================] - 3s 63ms/step - loss: 0.0300 - accuracy: 0.9994 - val_loss: 0.1387 - val_accuracy: 0.9596\n",
      "Epoch 10/15\n",
      "49/49 [==============================] - 3s 55ms/step - loss: 0.0215 - accuracy: 0.9994 - val_loss: 0.1329 - val_accuracy: 0.9611\n",
      "Epoch 11/15\n",
      "49/49 [==============================] - 3s 57ms/step - loss: 0.0161 - accuracy: 1.0000 - val_loss: 0.1276 - val_accuracy: 0.9611\n",
      "Epoch 12/15\n",
      "49/49 [==============================] - 3s 58ms/step - loss: 0.0125 - accuracy: 1.0000 - val_loss: 0.1244 - val_accuracy: 0.9611\n",
      "Epoch 13/15\n",
      "49/49 [==============================] - 3s 59ms/step - loss: 0.0099 - accuracy: 1.0000 - val_loss: 0.1217 - val_accuracy: 0.9611\n",
      "Epoch 14/15\n",
      "49/49 [==============================] - 2s 50ms/step - loss: 0.0080 - accuracy: 1.0000 - val_loss: 0.1196 - val_accuracy: 0.9611\n",
      "Epoch 15/15\n",
      "49/49 [==============================] - 3s 56ms/step - loss: 0.0066 - accuracy: 1.0000 - val_loss: 0.1172 - val_accuracy: 0.9626\n"
     ]
    }
   ],
   "source": [
    "# Compile and fit\n",
    "model.compile(\n",
    "  loss=SparseCategoricalCrossentropy(from_logits=True),\n",
    "  optimizer='adam',\n",
    "  metrics=['accuracy']\n",
    ")\n",
    "\n",
    "\n",
    "print('Training model...')\n",
    "r = model.fit(\n",
    "  data_train,\n",
    "  df_train['targets'],\n",
    "  epochs=nbr_epochs,\n",
    "  validation_data=(data_test, df_test['targets'])\n",
    ")"
   ]
  },
  {
   "cell_type": "code",
   "execution_count": 38,
   "metadata": {},
   "outputs": [
    {
     "data": {
      "image/png": "[encoded data removed]",
      "text/plain": [
       "<Figure size 640x480 with 1 Axes>"
      ]
     },
     "metadata": {},
     "output_type": "display_data"
    }
   ],
   "source": [
    "# Plot loss per iteration\n",
    "plt.plot(r.history['loss'], label='train loss')\n",
    "plt.plot(r.history['val_loss'], label='val loss')\n",
    "plt.legend();"
   ]
  },
  {
   "cell_type": "code",
   "execution_count": 39,
   "metadata": {},
   "outputs": [
    {
     "data": {
      "image/png": "[encoded data removed]",
      "text/plain": [
       "<Figure size 640x480 with 1 Axes>"
      ]
     },
     "metadata": {},
     "output_type": "display_data"
    }
   ],
   "source": [
    "# Plot accuracy per iteration\n",
    "plt.plot(r.history['accuracy'], label='train acc')\n",
    "plt.plot(r.history['val_accuracy'], label='val acc')\n",
    "plt.legend();"
   ]
  }
 ],
 "metadata": {
  "kernelspec": {
   "display_name": "gpu",
   "language": "python",
   "name": "python3"
  },
  "language_info": {
   "codemirror_mode": {
    "name": "ipython",
    "version": 3
   },
   "file_extension": ".py",
   "mimetype": "text/x-python",
   "name": "python",
   "nbconvert_exporter": "python",
   "pygments_lexer": "ipython3",
   "version": "3.9.16"
  },
  "orig_nbformat": 4
 },
 "nbformat": 4,
 "nbformat_minor": 2
}
